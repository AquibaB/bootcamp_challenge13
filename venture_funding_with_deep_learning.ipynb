{
 "cells": [
  {
   "cell_type": "markdown",
   "metadata": {},
   "source": [
    "# Venture Funding with Deep Learning\n",
    "\n",
    "You work as a risk management associate at Alphabet Soup, a venture capital firm. Alphabet Soup’s business team receives many funding applications from startups every day. This team has asked you to help them create a model that predicts whether applicants will be successful if funded by Alphabet Soup.\n",
    "\n",
    "The business team has given you a CSV containing more than 34,000 organizations that have received funding from Alphabet Soup over the years. With your knowledge of machine learning and neural networks, you decide to use the features in the provided dataset to create a binary classifier model that will predict whether an applicant will become a successful business. The CSV file contains a variety of information about these businesses, including whether or not they ultimately became successful.\n",
    "\n",
    "## Instructions:\n",
    "\n",
    "The steps for this challenge are broken out into the following sections:\n",
    "\n",
    "* Prepare the data for use on a neural network model.\n",
    "\n",
    "* Compile and evaluate a binary classification model using a neural network.\n",
    "\n",
    "* Optimize the neural network model.\n",
    "\n",
    "### Prepare the Data for Use on a Neural Network Model \n",
    "\n",
    "Using your knowledge of Pandas and scikit-learn’s `StandardScaler()`, preprocess the dataset so that you can use it to compile and evaluate the neural network model later.\n",
    "\n",
    "Open the starter code file, and complete the following data preparation steps:\n",
    "\n",
    "1. Read the `applicants_data.csv` file into a Pandas DataFrame. Review the DataFrame, looking for categorical variables that will need to be encoded, as well as columns that could eventually define your features and target variables.   \n",
    "\n",
    "2. Drop the “EIN” (Employer Identification Number) and “NAME” columns from the DataFrame, because they are not relevant to the binary classification model.\n",
    " \n",
    "3. Encode the dataset’s categorical variables using `OneHotEncoder`, and then place the encoded variables into a new DataFrame.\n",
    "\n",
    "4. Add the original DataFrame’s numerical variables to the DataFrame containing the encoded variables.\n",
    "\n",
    "> **Note** To complete this step, you will employ the Pandas `concat()` function that was introduced earlier in this course. \n",
    "\n",
    "5. Using the preprocessed data, create the features (`X`) and target (`y`) datasets. The target dataset should be defined by the preprocessed DataFrame column “IS_SUCCESSFUL”. The remaining columns should define the features dataset. \n",
    "\n",
    "6. Split the features and target sets into training and testing datasets.\n",
    "\n",
    "7. Use scikit-learn's `StandardScaler` to scale the features data.\n",
    "\n",
    "### Compile and Evaluate a Binary Classification Model Using a Neural Network\n",
    "\n",
    "Use your knowledge of TensorFlow to design a binary classification deep neural network model. This model should use the dataset’s features to predict whether an Alphabet Soup&ndash;funded startup will be successful based on the features in the dataset. Consider the number of inputs before determining the number of layers that your model will contain or the number of neurons on each layer. Then, compile and fit your model. Finally, evaluate your binary classification model to calculate the model’s loss and accuracy. \n",
    " \n",
    "To do so, complete the following steps:\n",
    "\n",
    "1. Create a deep neural network by assigning the number of input features, the number of layers, and the number of neurons on each layer using Tensorflow’s Keras.\n",
    "\n",
    "> **Hint** You can start with a two-layer deep neural network model that uses the `relu` activation function for both layers.\n",
    "\n",
    "2. Compile and fit the model using the `binary_crossentropy` loss function, the `adam` optimizer, and the `accuracy` evaluation metric.\n",
    "\n",
    "> **Hint** When fitting the model, start with a small number of epochs, such as 20, 50, or 100.\n",
    "\n",
    "3. Evaluate the model using the test data to determine the model’s loss and accuracy.\n",
    "\n",
    "4. Save and export your model to an HDF5 file, and name the file `AlphabetSoup.h5`. \n",
    "\n",
    "### Optimize the Neural Network Model\n",
    "\n",
    "Using your knowledge of TensorFlow and Keras, optimize your model to improve the model's accuracy. Even if you do not successfully achieve a better accuracy, you'll need to demonstrate at least two attempts to optimize the model. You can include these attempts in your existing notebook. Or, you can make copies of the starter notebook in the same folder, rename them, and code each model optimization in a new notebook. \n",
    "\n",
    "> **Note** You will not lose points if your model does not achieve a high accuracy, as long as you make at least two attempts to optimize the model.\n",
    "\n",
    "To do so, complete the following steps:\n",
    "\n",
    "1. Define at least three new deep neural network models (the original plus 2 optimization attempts). With each, try to improve on your first model’s predictive accuracy.\n",
    "\n",
    "> **Rewind** Recall that perfect accuracy has a value of 1, so accuracy improves as its value moves closer to 1. To optimize your model for a predictive accuracy as close to 1 as possible, you can use any or all of the following techniques:\n",
    ">\n",
    "> * Adjust the input data by dropping different features columns to ensure that no variables or outliers confuse the model.\n",
    ">\n",
    "> * Add more neurons (nodes) to a hidden layer.\n",
    ">\n",
    "> * Add more hidden layers.\n",
    ">\n",
    "> * Use different activation functions for the hidden layers.\n",
    ">\n",
    "> * Add to or reduce the number of epochs in the training regimen.\n",
    "\n",
    "2. After finishing your models, display the accuracy scores achieved by each model, and compare the results.\n",
    "\n",
    "3. Save each of your models as an HDF5 file.\n"
   ]
  },
  {
   "cell_type": "code",
   "execution_count": 36,
   "metadata": {},
   "outputs": [],
   "source": [
    "# Imports\n",
    "import pandas as pd\n",
    "from pathlib import Path\n",
    "import tensorflow as tf\n",
    "import numpy as np\n",
    "from tensorflow.keras.layers import Dense\n",
    "from tensorflow.keras.models import Sequential\n",
    "from sklearn.model_selection import train_test_split\n",
    "from sklearn.preprocessing import StandardScaler,OneHotEncoder\n",
    "from sklearn.feature_selection import VarianceThreshold"
   ]
  },
  {
   "cell_type": "markdown",
   "metadata": {},
   "source": [
    "---\n",
    "\n",
    "## Prepare the data to be used on a neural network model"
   ]
  },
  {
   "cell_type": "markdown",
   "metadata": {},
   "source": [
    "### Step 1: Read the `applicants_data.csv` file into a Pandas DataFrame. Review the DataFrame, looking for categorical variables that will need to be encoded, as well as columns that could eventually define your features and target variables.  \n"
   ]
  },
  {
   "cell_type": "code",
   "execution_count": 37,
   "metadata": {},
   "outputs": [
    {
     "data": {
      "text/html": "<div>\n<style scoped>\n    .dataframe tbody tr th:only-of-type {\n        vertical-align: middle;\n    }\n\n    .dataframe tbody tr th {\n        vertical-align: top;\n    }\n\n    .dataframe thead th {\n        text-align: right;\n    }\n</style>\n<table border=\"1\" class=\"dataframe\">\n  <thead>\n    <tr style=\"text-align: right;\">\n      <th></th>\n      <th>EIN</th>\n      <th>NAME</th>\n      <th>APPLICATION_TYPE</th>\n      <th>AFFILIATION</th>\n      <th>CLASSIFICATION</th>\n      <th>USE_CASE</th>\n      <th>ORGANIZATION</th>\n      <th>STATUS</th>\n      <th>INCOME_AMT</th>\n      <th>SPECIAL_CONSIDERATIONS</th>\n      <th>ASK_AMT</th>\n      <th>IS_SUCCESSFUL</th>\n    </tr>\n  </thead>\n  <tbody>\n    <tr>\n      <th>0</th>\n      <td>10520599</td>\n      <td>BLUE KNIGHTS MOTORCYCLE CLUB</td>\n      <td>T10</td>\n      <td>Independent</td>\n      <td>C1000</td>\n      <td>ProductDev</td>\n      <td>Association</td>\n      <td>1</td>\n      <td>0</td>\n      <td>N</td>\n      <td>5000</td>\n      <td>1</td>\n    </tr>\n    <tr>\n      <th>1</th>\n      <td>10531628</td>\n      <td>AMERICAN CHESAPEAKE CLUB CHARITABLE TR</td>\n      <td>T3</td>\n      <td>Independent</td>\n      <td>C2000</td>\n      <td>Preservation</td>\n      <td>Co-operative</td>\n      <td>1</td>\n      <td>1-9999</td>\n      <td>N</td>\n      <td>108590</td>\n      <td>1</td>\n    </tr>\n    <tr>\n      <th>2</th>\n      <td>10547893</td>\n      <td>ST CLOUD PROFESSIONAL FIREFIGHTERS</td>\n      <td>T5</td>\n      <td>CompanySponsored</td>\n      <td>C3000</td>\n      <td>ProductDev</td>\n      <td>Association</td>\n      <td>1</td>\n      <td>0</td>\n      <td>N</td>\n      <td>5000</td>\n      <td>0</td>\n    </tr>\n    <tr>\n      <th>3</th>\n      <td>10553066</td>\n      <td>SOUTHSIDE ATHLETIC ASSOCIATION</td>\n      <td>T3</td>\n      <td>CompanySponsored</td>\n      <td>C2000</td>\n      <td>Preservation</td>\n      <td>Trust</td>\n      <td>1</td>\n      <td>10000-24999</td>\n      <td>N</td>\n      <td>6692</td>\n      <td>1</td>\n    </tr>\n    <tr>\n      <th>4</th>\n      <td>10556103</td>\n      <td>GENETIC RESEARCH INSTITUTE OF THE DESERT</td>\n      <td>T3</td>\n      <td>Independent</td>\n      <td>C1000</td>\n      <td>Heathcare</td>\n      <td>Trust</td>\n      <td>1</td>\n      <td>100000-499999</td>\n      <td>N</td>\n      <td>142590</td>\n      <td>1</td>\n    </tr>\n  </tbody>\n</table>\n</div>",
      "text/plain": "        EIN                                      NAME APPLICATION_TYPE  \\\n0  10520599              BLUE KNIGHTS MOTORCYCLE CLUB              T10   \n1  10531628    AMERICAN CHESAPEAKE CLUB CHARITABLE TR               T3   \n2  10547893        ST CLOUD PROFESSIONAL FIREFIGHTERS               T5   \n3  10553066            SOUTHSIDE ATHLETIC ASSOCIATION               T3   \n4  10556103  GENETIC RESEARCH INSTITUTE OF THE DESERT               T3   \n\n        AFFILIATION CLASSIFICATION      USE_CASE  ORGANIZATION  STATUS  \\\n0       Independent          C1000    ProductDev   Association       1   \n1       Independent          C2000  Preservation  Co-operative       1   \n2  CompanySponsored          C3000    ProductDev   Association       1   \n3  CompanySponsored          C2000  Preservation         Trust       1   \n4       Independent          C1000     Heathcare         Trust       1   \n\n      INCOME_AMT SPECIAL_CONSIDERATIONS  ASK_AMT  IS_SUCCESSFUL  \n0              0                      N     5000              1  \n1         1-9999                      N   108590              1  \n2              0                      N     5000              0  \n3    10000-24999                      N     6692              1  \n4  100000-499999                      N   142590              1  "
     },
     "execution_count": 37,
     "metadata": {},
     "output_type": "execute_result"
    }
   ],
   "source": [
    "# Read the applicants_data.csv file from the Resources folder into a Pandas DataFrame\n",
    "applicant_data_df = pd.read_csv(Path('./Resources/applicants_data.csv'))\n",
    "\n",
    "# Review the DataFrame\n",
    "# YOUR CODE HERE\n",
    "applicant_data_df.head()"
   ]
  },
  {
   "cell_type": "code",
   "execution_count": 38,
   "metadata": {},
   "outputs": [
    {
     "data": {
      "text/plain": "EIN                        int64\nNAME                      object\nAPPLICATION_TYPE          object\nAFFILIATION               object\nCLASSIFICATION            object\nUSE_CASE                  object\nORGANIZATION              object\nSTATUS                     int64\nINCOME_AMT                object\nSPECIAL_CONSIDERATIONS    object\nASK_AMT                    int64\nIS_SUCCESSFUL              int64\ndtype: object"
     },
     "execution_count": 38,
     "metadata": {},
     "output_type": "execute_result"
    }
   ],
   "source": [
    "# Review the data types associated with the columns\n",
    "applicant_data_df.dtypes\n"
   ]
  },
  {
   "cell_type": "markdown",
   "metadata": {},
   "source": [
    "### Step 2: Drop the “EIN” (Employer Identification Number) and “NAME” columns from the DataFrame, because they are not relevant to the binary classification model."
   ]
  },
  {
   "cell_type": "code",
   "execution_count": 39,
   "metadata": {},
   "outputs": [
    {
     "data": {
      "text/html": "<div>\n<style scoped>\n    .dataframe tbody tr th:only-of-type {\n        vertical-align: middle;\n    }\n\n    .dataframe tbody tr th {\n        vertical-align: top;\n    }\n\n    .dataframe thead th {\n        text-align: right;\n    }\n</style>\n<table border=\"1\" class=\"dataframe\">\n  <thead>\n    <tr style=\"text-align: right;\">\n      <th></th>\n      <th>APPLICATION_TYPE</th>\n      <th>AFFILIATION</th>\n      <th>CLASSIFICATION</th>\n      <th>USE_CASE</th>\n      <th>ORGANIZATION</th>\n      <th>STATUS</th>\n      <th>INCOME_AMT</th>\n      <th>SPECIAL_CONSIDERATIONS</th>\n      <th>ASK_AMT</th>\n      <th>IS_SUCCESSFUL</th>\n    </tr>\n  </thead>\n  <tbody>\n    <tr>\n      <th>0</th>\n      <td>T10</td>\n      <td>Independent</td>\n      <td>C1000</td>\n      <td>ProductDev</td>\n      <td>Association</td>\n      <td>1</td>\n      <td>0</td>\n      <td>N</td>\n      <td>5000</td>\n      <td>1</td>\n    </tr>\n    <tr>\n      <th>1</th>\n      <td>T3</td>\n      <td>Independent</td>\n      <td>C2000</td>\n      <td>Preservation</td>\n      <td>Co-operative</td>\n      <td>1</td>\n      <td>1-9999</td>\n      <td>N</td>\n      <td>108590</td>\n      <td>1</td>\n    </tr>\n    <tr>\n      <th>2</th>\n      <td>T5</td>\n      <td>CompanySponsored</td>\n      <td>C3000</td>\n      <td>ProductDev</td>\n      <td>Association</td>\n      <td>1</td>\n      <td>0</td>\n      <td>N</td>\n      <td>5000</td>\n      <td>0</td>\n    </tr>\n    <tr>\n      <th>3</th>\n      <td>T3</td>\n      <td>CompanySponsored</td>\n      <td>C2000</td>\n      <td>Preservation</td>\n      <td>Trust</td>\n      <td>1</td>\n      <td>10000-24999</td>\n      <td>N</td>\n      <td>6692</td>\n      <td>1</td>\n    </tr>\n    <tr>\n      <th>4</th>\n      <td>T3</td>\n      <td>Independent</td>\n      <td>C1000</td>\n      <td>Heathcare</td>\n      <td>Trust</td>\n      <td>1</td>\n      <td>100000-499999</td>\n      <td>N</td>\n      <td>142590</td>\n      <td>1</td>\n    </tr>\n    <tr>\n      <th>...</th>\n      <td>...</td>\n      <td>...</td>\n      <td>...</td>\n      <td>...</td>\n      <td>...</td>\n      <td>...</td>\n      <td>...</td>\n      <td>...</td>\n      <td>...</td>\n      <td>...</td>\n    </tr>\n    <tr>\n      <th>34294</th>\n      <td>T4</td>\n      <td>Independent</td>\n      <td>C1000</td>\n      <td>ProductDev</td>\n      <td>Association</td>\n      <td>1</td>\n      <td>0</td>\n      <td>N</td>\n      <td>5000</td>\n      <td>0</td>\n    </tr>\n    <tr>\n      <th>34295</th>\n      <td>T4</td>\n      <td>CompanySponsored</td>\n      <td>C3000</td>\n      <td>ProductDev</td>\n      <td>Association</td>\n      <td>1</td>\n      <td>0</td>\n      <td>N</td>\n      <td>5000</td>\n      <td>0</td>\n    </tr>\n    <tr>\n      <th>34296</th>\n      <td>T3</td>\n      <td>CompanySponsored</td>\n      <td>C2000</td>\n      <td>Preservation</td>\n      <td>Association</td>\n      <td>1</td>\n      <td>0</td>\n      <td>N</td>\n      <td>5000</td>\n      <td>0</td>\n    </tr>\n    <tr>\n      <th>34297</th>\n      <td>T5</td>\n      <td>Independent</td>\n      <td>C3000</td>\n      <td>ProductDev</td>\n      <td>Association</td>\n      <td>1</td>\n      <td>0</td>\n      <td>N</td>\n      <td>5000</td>\n      <td>1</td>\n    </tr>\n    <tr>\n      <th>34298</th>\n      <td>T3</td>\n      <td>Independent</td>\n      <td>C1000</td>\n      <td>Preservation</td>\n      <td>Co-operative</td>\n      <td>1</td>\n      <td>1M-5M</td>\n      <td>N</td>\n      <td>36500179</td>\n      <td>0</td>\n    </tr>\n  </tbody>\n</table>\n<p>34299 rows × 10 columns</p>\n</div>",
      "text/plain": "      APPLICATION_TYPE       AFFILIATION CLASSIFICATION      USE_CASE  \\\n0                  T10       Independent          C1000    ProductDev   \n1                   T3       Independent          C2000  Preservation   \n2                   T5  CompanySponsored          C3000    ProductDev   \n3                   T3  CompanySponsored          C2000  Preservation   \n4                   T3       Independent          C1000     Heathcare   \n...                ...               ...            ...           ...   \n34294               T4       Independent          C1000    ProductDev   \n34295               T4  CompanySponsored          C3000    ProductDev   \n34296               T3  CompanySponsored          C2000  Preservation   \n34297               T5       Independent          C3000    ProductDev   \n34298               T3       Independent          C1000  Preservation   \n\n       ORGANIZATION  STATUS     INCOME_AMT SPECIAL_CONSIDERATIONS   ASK_AMT  \\\n0       Association       1              0                      N      5000   \n1      Co-operative       1         1-9999                      N    108590   \n2       Association       1              0                      N      5000   \n3             Trust       1    10000-24999                      N      6692   \n4             Trust       1  100000-499999                      N    142590   \n...             ...     ...            ...                    ...       ...   \n34294   Association       1              0                      N      5000   \n34295   Association       1              0                      N      5000   \n34296   Association       1              0                      N      5000   \n34297   Association       1              0                      N      5000   \n34298  Co-operative       1          1M-5M                      N  36500179   \n\n       IS_SUCCESSFUL  \n0                  1  \n1                  1  \n2                  0  \n3                  1  \n4                  1  \n...              ...  \n34294              0  \n34295              0  \n34296              0  \n34297              1  \n34298              0  \n\n[34299 rows x 10 columns]"
     },
     "execution_count": 39,
     "metadata": {},
     "output_type": "execute_result"
    }
   ],
   "source": [
    "# Drop the 'EIN' and 'NAME' columns from the DataFrame\n",
    "applicant_data_df = applicant_data_df.drop(columns=['EIN', 'NAME'])\n",
    "\n",
    "# Review the DataFrame\n",
    "# YOUR CODE HERE\n",
    "applicant_data_df"
   ]
  },
  {
   "cell_type": "markdown",
   "metadata": {},
   "source": [
    "### Step 3: Encode the dataset’s categorical variables using `OneHotEncoder`, and then place the encoded variables into a new DataFrame."
   ]
  },
  {
   "cell_type": "code",
   "execution_count": 40,
   "metadata": {},
   "outputs": [
    {
     "data": {
      "text/plain": "['APPLICATION_TYPE',\n 'AFFILIATION',\n 'CLASSIFICATION',\n 'USE_CASE',\n 'ORGANIZATION',\n 'INCOME_AMT',\n 'SPECIAL_CONSIDERATIONS']"
     },
     "execution_count": 40,
     "metadata": {},
     "output_type": "execute_result"
    }
   ],
   "source": [
    "# Create a list of categorical variables \n",
    "categorical_variables = list(applicant_data_df.dtypes[applicant_data_df.dtypes == 'object'].index)\n",
    "\n",
    "# Display the categorical variables list\n",
    "# YOUR CODE HERE\n",
    "categorical_variables"
   ]
  },
  {
   "cell_type": "code",
   "execution_count": 41,
   "metadata": {},
   "outputs": [],
   "source": [
    "# Create a OneHotEncoder instance\n",
    "enc = OneHotEncoder(sparse=False)\n"
   ]
  },
  {
   "cell_type": "code",
   "execution_count": 42,
   "metadata": {},
   "outputs": [],
   "source": [
    "# Encode the categorical variables using OneHotEncoder\n",
    "encoded_data = enc.fit_transform(applicant_data_df[categorical_variables])\n"
   ]
  },
  {
   "cell_type": "code",
   "execution_count": 43,
   "metadata": {},
   "outputs": [
    {
     "data": {
      "text/html": "<div>\n<style scoped>\n    .dataframe tbody tr th:only-of-type {\n        vertical-align: middle;\n    }\n\n    .dataframe tbody tr th {\n        vertical-align: top;\n    }\n\n    .dataframe thead th {\n        text-align: right;\n    }\n</style>\n<table border=\"1\" class=\"dataframe\">\n  <thead>\n    <tr style=\"text-align: right;\">\n      <th></th>\n      <th>APPLICATION_TYPE_T10</th>\n      <th>APPLICATION_TYPE_T12</th>\n      <th>APPLICATION_TYPE_T13</th>\n      <th>APPLICATION_TYPE_T14</th>\n      <th>APPLICATION_TYPE_T15</th>\n      <th>APPLICATION_TYPE_T17</th>\n      <th>APPLICATION_TYPE_T19</th>\n      <th>APPLICATION_TYPE_T2</th>\n      <th>APPLICATION_TYPE_T25</th>\n      <th>APPLICATION_TYPE_T29</th>\n      <th>...</th>\n      <th>INCOME_AMT_1-9999</th>\n      <th>INCOME_AMT_10000-24999</th>\n      <th>INCOME_AMT_100000-499999</th>\n      <th>INCOME_AMT_10M-50M</th>\n      <th>INCOME_AMT_1M-5M</th>\n      <th>INCOME_AMT_25000-99999</th>\n      <th>INCOME_AMT_50M+</th>\n      <th>INCOME_AMT_5M-10M</th>\n      <th>SPECIAL_CONSIDERATIONS_N</th>\n      <th>SPECIAL_CONSIDERATIONS_Y</th>\n    </tr>\n  </thead>\n  <tbody>\n    <tr>\n      <th>0</th>\n      <td>1.0</td>\n      <td>0.0</td>\n      <td>0.0</td>\n      <td>0.0</td>\n      <td>0.0</td>\n      <td>0.0</td>\n      <td>0.0</td>\n      <td>0.0</td>\n      <td>0.0</td>\n      <td>0.0</td>\n      <td>...</td>\n      <td>0.0</td>\n      <td>0.0</td>\n      <td>0.0</td>\n      <td>0.0</td>\n      <td>0.0</td>\n      <td>0.0</td>\n      <td>0.0</td>\n      <td>0.0</td>\n      <td>1.0</td>\n      <td>0.0</td>\n    </tr>\n    <tr>\n      <th>1</th>\n      <td>0.0</td>\n      <td>0.0</td>\n      <td>0.0</td>\n      <td>0.0</td>\n      <td>0.0</td>\n      <td>0.0</td>\n      <td>0.0</td>\n      <td>0.0</td>\n      <td>0.0</td>\n      <td>0.0</td>\n      <td>...</td>\n      <td>1.0</td>\n      <td>0.0</td>\n      <td>0.0</td>\n      <td>0.0</td>\n      <td>0.0</td>\n      <td>0.0</td>\n      <td>0.0</td>\n      <td>0.0</td>\n      <td>1.0</td>\n      <td>0.0</td>\n    </tr>\n    <tr>\n      <th>2</th>\n      <td>0.0</td>\n      <td>0.0</td>\n      <td>0.0</td>\n      <td>0.0</td>\n      <td>0.0</td>\n      <td>0.0</td>\n      <td>0.0</td>\n      <td>0.0</td>\n      <td>0.0</td>\n      <td>0.0</td>\n      <td>...</td>\n      <td>0.0</td>\n      <td>0.0</td>\n      <td>0.0</td>\n      <td>0.0</td>\n      <td>0.0</td>\n      <td>0.0</td>\n      <td>0.0</td>\n      <td>0.0</td>\n      <td>1.0</td>\n      <td>0.0</td>\n    </tr>\n    <tr>\n      <th>3</th>\n      <td>0.0</td>\n      <td>0.0</td>\n      <td>0.0</td>\n      <td>0.0</td>\n      <td>0.0</td>\n      <td>0.0</td>\n      <td>0.0</td>\n      <td>0.0</td>\n      <td>0.0</td>\n      <td>0.0</td>\n      <td>...</td>\n      <td>0.0</td>\n      <td>1.0</td>\n      <td>0.0</td>\n      <td>0.0</td>\n      <td>0.0</td>\n      <td>0.0</td>\n      <td>0.0</td>\n      <td>0.0</td>\n      <td>1.0</td>\n      <td>0.0</td>\n    </tr>\n    <tr>\n      <th>4</th>\n      <td>0.0</td>\n      <td>0.0</td>\n      <td>0.0</td>\n      <td>0.0</td>\n      <td>0.0</td>\n      <td>0.0</td>\n      <td>0.0</td>\n      <td>0.0</td>\n      <td>0.0</td>\n      <td>0.0</td>\n      <td>...</td>\n      <td>0.0</td>\n      <td>0.0</td>\n      <td>1.0</td>\n      <td>0.0</td>\n      <td>0.0</td>\n      <td>0.0</td>\n      <td>0.0</td>\n      <td>0.0</td>\n      <td>1.0</td>\n      <td>0.0</td>\n    </tr>\n  </tbody>\n</table>\n<p>5 rows × 114 columns</p>\n</div>",
      "text/plain": "   APPLICATION_TYPE_T10  APPLICATION_TYPE_T12  APPLICATION_TYPE_T13  \\\n0                   1.0                   0.0                   0.0   \n1                   0.0                   0.0                   0.0   \n2                   0.0                   0.0                   0.0   \n3                   0.0                   0.0                   0.0   \n4                   0.0                   0.0                   0.0   \n\n   APPLICATION_TYPE_T14  APPLICATION_TYPE_T15  APPLICATION_TYPE_T17  \\\n0                   0.0                   0.0                   0.0   \n1                   0.0                   0.0                   0.0   \n2                   0.0                   0.0                   0.0   \n3                   0.0                   0.0                   0.0   \n4                   0.0                   0.0                   0.0   \n\n   APPLICATION_TYPE_T19  APPLICATION_TYPE_T2  APPLICATION_TYPE_T25  \\\n0                   0.0                  0.0                   0.0   \n1                   0.0                  0.0                   0.0   \n2                   0.0                  0.0                   0.0   \n3                   0.0                  0.0                   0.0   \n4                   0.0                  0.0                   0.0   \n\n   APPLICATION_TYPE_T29  ...  INCOME_AMT_1-9999  INCOME_AMT_10000-24999  \\\n0                   0.0  ...                0.0                     0.0   \n1                   0.0  ...                1.0                     0.0   \n2                   0.0  ...                0.0                     0.0   \n3                   0.0  ...                0.0                     1.0   \n4                   0.0  ...                0.0                     0.0   \n\n   INCOME_AMT_100000-499999  INCOME_AMT_10M-50M  INCOME_AMT_1M-5M  \\\n0                       0.0                 0.0               0.0   \n1                       0.0                 0.0               0.0   \n2                       0.0                 0.0               0.0   \n3                       0.0                 0.0               0.0   \n4                       1.0                 0.0               0.0   \n\n   INCOME_AMT_25000-99999  INCOME_AMT_50M+  INCOME_AMT_5M-10M  \\\n0                     0.0              0.0                0.0   \n1                     0.0              0.0                0.0   \n2                     0.0              0.0                0.0   \n3                     0.0              0.0                0.0   \n4                     0.0              0.0                0.0   \n\n   SPECIAL_CONSIDERATIONS_N  SPECIAL_CONSIDERATIONS_Y  \n0                       1.0                       0.0  \n1                       1.0                       0.0  \n2                       1.0                       0.0  \n3                       1.0                       0.0  \n4                       1.0                       0.0  \n\n[5 rows x 114 columns]"
     },
     "execution_count": 43,
     "metadata": {},
     "output_type": "execute_result"
    }
   ],
   "source": [
    "# Create a DataFrame with the encoded variables\n",
    "encoded_df = pd.DataFrame(\n",
    "    encoded_data,\n",
    "    columns=enc.get_feature_names(categorical_variables)\n",
    ")\n",
    "\n",
    "# Review the DataFrame\n",
    "# YOUR CODE HERE\n",
    "encoded_df.head()"
   ]
  },
  {
   "cell_type": "markdown",
   "metadata": {},
   "source": [
    "### Step 4: Add the original DataFrame’s numerical variables to the DataFrame containing the encoded variables.\n",
    "\n",
    "> **Note** To complete this step, you will employ the Pandas `concat()` function that was introduced earlier in this course. "
   ]
  },
  {
   "cell_type": "code",
   "execution_count": 44,
   "metadata": {},
   "outputs": [
    {
     "data": {
      "text/html": "<div>\n<style scoped>\n    .dataframe tbody tr th:only-of-type {\n        vertical-align: middle;\n    }\n\n    .dataframe tbody tr th {\n        vertical-align: top;\n    }\n\n    .dataframe thead th {\n        text-align: right;\n    }\n</style>\n<table border=\"1\" class=\"dataframe\">\n  <thead>\n    <tr style=\"text-align: right;\">\n      <th></th>\n      <th>APPLICATION_TYPE_T10</th>\n      <th>APPLICATION_TYPE_T12</th>\n      <th>APPLICATION_TYPE_T13</th>\n      <th>APPLICATION_TYPE_T14</th>\n      <th>APPLICATION_TYPE_T15</th>\n      <th>APPLICATION_TYPE_T17</th>\n      <th>APPLICATION_TYPE_T19</th>\n      <th>APPLICATION_TYPE_T2</th>\n      <th>APPLICATION_TYPE_T25</th>\n      <th>APPLICATION_TYPE_T29</th>\n      <th>...</th>\n      <th>INCOME_AMT_10M-50M</th>\n      <th>INCOME_AMT_1M-5M</th>\n      <th>INCOME_AMT_25000-99999</th>\n      <th>INCOME_AMT_50M+</th>\n      <th>INCOME_AMT_5M-10M</th>\n      <th>SPECIAL_CONSIDERATIONS_N</th>\n      <th>SPECIAL_CONSIDERATIONS_Y</th>\n      <th>STATUS</th>\n      <th>ASK_AMT</th>\n      <th>IS_SUCCESSFUL</th>\n    </tr>\n  </thead>\n  <tbody>\n    <tr>\n      <th>0</th>\n      <td>1.0</td>\n      <td>0.0</td>\n      <td>0.0</td>\n      <td>0.0</td>\n      <td>0.0</td>\n      <td>0.0</td>\n      <td>0.0</td>\n      <td>0.0</td>\n      <td>0.0</td>\n      <td>0.0</td>\n      <td>...</td>\n      <td>0.0</td>\n      <td>0.0</td>\n      <td>0.0</td>\n      <td>0.0</td>\n      <td>0.0</td>\n      <td>1.0</td>\n      <td>0.0</td>\n      <td>1</td>\n      <td>5000</td>\n      <td>1</td>\n    </tr>\n    <tr>\n      <th>1</th>\n      <td>0.0</td>\n      <td>0.0</td>\n      <td>0.0</td>\n      <td>0.0</td>\n      <td>0.0</td>\n      <td>0.0</td>\n      <td>0.0</td>\n      <td>0.0</td>\n      <td>0.0</td>\n      <td>0.0</td>\n      <td>...</td>\n      <td>0.0</td>\n      <td>0.0</td>\n      <td>0.0</td>\n      <td>0.0</td>\n      <td>0.0</td>\n      <td>1.0</td>\n      <td>0.0</td>\n      <td>1</td>\n      <td>108590</td>\n      <td>1</td>\n    </tr>\n    <tr>\n      <th>2</th>\n      <td>0.0</td>\n      <td>0.0</td>\n      <td>0.0</td>\n      <td>0.0</td>\n      <td>0.0</td>\n      <td>0.0</td>\n      <td>0.0</td>\n      <td>0.0</td>\n      <td>0.0</td>\n      <td>0.0</td>\n      <td>...</td>\n      <td>0.0</td>\n      <td>0.0</td>\n      <td>0.0</td>\n      <td>0.0</td>\n      <td>0.0</td>\n      <td>1.0</td>\n      <td>0.0</td>\n      <td>1</td>\n      <td>5000</td>\n      <td>0</td>\n    </tr>\n    <tr>\n      <th>3</th>\n      <td>0.0</td>\n      <td>0.0</td>\n      <td>0.0</td>\n      <td>0.0</td>\n      <td>0.0</td>\n      <td>0.0</td>\n      <td>0.0</td>\n      <td>0.0</td>\n      <td>0.0</td>\n      <td>0.0</td>\n      <td>...</td>\n      <td>0.0</td>\n      <td>0.0</td>\n      <td>0.0</td>\n      <td>0.0</td>\n      <td>0.0</td>\n      <td>1.0</td>\n      <td>0.0</td>\n      <td>1</td>\n      <td>6692</td>\n      <td>1</td>\n    </tr>\n    <tr>\n      <th>4</th>\n      <td>0.0</td>\n      <td>0.0</td>\n      <td>0.0</td>\n      <td>0.0</td>\n      <td>0.0</td>\n      <td>0.0</td>\n      <td>0.0</td>\n      <td>0.0</td>\n      <td>0.0</td>\n      <td>0.0</td>\n      <td>...</td>\n      <td>0.0</td>\n      <td>0.0</td>\n      <td>0.0</td>\n      <td>0.0</td>\n      <td>0.0</td>\n      <td>1.0</td>\n      <td>0.0</td>\n      <td>1</td>\n      <td>142590</td>\n      <td>1</td>\n    </tr>\n  </tbody>\n</table>\n<p>5 rows × 117 columns</p>\n</div>",
      "text/plain": "   APPLICATION_TYPE_T10  APPLICATION_TYPE_T12  APPLICATION_TYPE_T13  \\\n0                   1.0                   0.0                   0.0   \n1                   0.0                   0.0                   0.0   \n2                   0.0                   0.0                   0.0   \n3                   0.0                   0.0                   0.0   \n4                   0.0                   0.0                   0.0   \n\n   APPLICATION_TYPE_T14  APPLICATION_TYPE_T15  APPLICATION_TYPE_T17  \\\n0                   0.0                   0.0                   0.0   \n1                   0.0                   0.0                   0.0   \n2                   0.0                   0.0                   0.0   \n3                   0.0                   0.0                   0.0   \n4                   0.0                   0.0                   0.0   \n\n   APPLICATION_TYPE_T19  APPLICATION_TYPE_T2  APPLICATION_TYPE_T25  \\\n0                   0.0                  0.0                   0.0   \n1                   0.0                  0.0                   0.0   \n2                   0.0                  0.0                   0.0   \n3                   0.0                  0.0                   0.0   \n4                   0.0                  0.0                   0.0   \n\n   APPLICATION_TYPE_T29  ...  INCOME_AMT_10M-50M  INCOME_AMT_1M-5M  \\\n0                   0.0  ...                 0.0               0.0   \n1                   0.0  ...                 0.0               0.0   \n2                   0.0  ...                 0.0               0.0   \n3                   0.0  ...                 0.0               0.0   \n4                   0.0  ...                 0.0               0.0   \n\n   INCOME_AMT_25000-99999  INCOME_AMT_50M+  INCOME_AMT_5M-10M  \\\n0                     0.0              0.0                0.0   \n1                     0.0              0.0                0.0   \n2                     0.0              0.0                0.0   \n3                     0.0              0.0                0.0   \n4                     0.0              0.0                0.0   \n\n   SPECIAL_CONSIDERATIONS_N  SPECIAL_CONSIDERATIONS_Y  STATUS  ASK_AMT  \\\n0                       1.0                       0.0       1     5000   \n1                       1.0                       0.0       1   108590   \n2                       1.0                       0.0       1     5000   \n3                       1.0                       0.0       1     6692   \n4                       1.0                       0.0       1   142590   \n\n   IS_SUCCESSFUL  \n0              1  \n1              1  \n2              0  \n3              1  \n4              1  \n\n[5 rows x 117 columns]"
     },
     "execution_count": 44,
     "metadata": {},
     "output_type": "execute_result"
    }
   ],
   "source": [
    "# Add the numerical variables from the original DataFrame to the one-hot encoding DataFrame\n",
    "encoded_df = pd.concat([encoded_df, applicant_data_df.drop(columns=categorical_variables)], axis=1)\n",
    "\n",
    "# Review the Dataframe\n",
    "# YOUR CODE HERE\n",
    "encoded_df.head()"
   ]
  },
  {
   "cell_type": "markdown",
   "metadata": {},
   "source": [
    "### Step 5: Using the preprocessed data, create the features (`X`) and target (`y`) datasets. The target dataset should be defined by the preprocessed DataFrame column “IS_SUCCESSFUL”. The remaining columns should define the features dataset. \n",
    "\n"
   ]
  },
  {
   "cell_type": "code",
   "execution_count": 45,
   "metadata": {},
   "outputs": [
    {
     "data": {
      "text/plain": "0    1\n1    1\n2    0\n3    1\n4    1\nName: IS_SUCCESSFUL, dtype: int64"
     },
     "execution_count": 45,
     "metadata": {},
     "output_type": "execute_result"
    }
   ],
   "source": [
    "# Define the target set y using the IS_SUCCESSFUL column\n",
    "y = encoded_df['IS_SUCCESSFUL']\n",
    "\n",
    "# Display a sample of y\n",
    "# YOUR CODE HERE\n",
    "y.head()"
   ]
  },
  {
   "cell_type": "code",
   "execution_count": 46,
   "metadata": {},
   "outputs": [
    {
     "data": {
      "text/html": "<div>\n<style scoped>\n    .dataframe tbody tr th:only-of-type {\n        vertical-align: middle;\n    }\n\n    .dataframe tbody tr th {\n        vertical-align: top;\n    }\n\n    .dataframe thead th {\n        text-align: right;\n    }\n</style>\n<table border=\"1\" class=\"dataframe\">\n  <thead>\n    <tr style=\"text-align: right;\">\n      <th></th>\n      <th>APPLICATION_TYPE_T10</th>\n      <th>APPLICATION_TYPE_T12</th>\n      <th>APPLICATION_TYPE_T13</th>\n      <th>APPLICATION_TYPE_T14</th>\n      <th>APPLICATION_TYPE_T15</th>\n      <th>APPLICATION_TYPE_T17</th>\n      <th>APPLICATION_TYPE_T19</th>\n      <th>APPLICATION_TYPE_T2</th>\n      <th>APPLICATION_TYPE_T25</th>\n      <th>APPLICATION_TYPE_T29</th>\n      <th>...</th>\n      <th>INCOME_AMT_100000-499999</th>\n      <th>INCOME_AMT_10M-50M</th>\n      <th>INCOME_AMT_1M-5M</th>\n      <th>INCOME_AMT_25000-99999</th>\n      <th>INCOME_AMT_50M+</th>\n      <th>INCOME_AMT_5M-10M</th>\n      <th>SPECIAL_CONSIDERATIONS_N</th>\n      <th>SPECIAL_CONSIDERATIONS_Y</th>\n      <th>STATUS</th>\n      <th>ASK_AMT</th>\n    </tr>\n  </thead>\n  <tbody>\n    <tr>\n      <th>0</th>\n      <td>1.0</td>\n      <td>0.0</td>\n      <td>0.0</td>\n      <td>0.0</td>\n      <td>0.0</td>\n      <td>0.0</td>\n      <td>0.0</td>\n      <td>0.0</td>\n      <td>0.0</td>\n      <td>0.0</td>\n      <td>...</td>\n      <td>0.0</td>\n      <td>0.0</td>\n      <td>0.0</td>\n      <td>0.0</td>\n      <td>0.0</td>\n      <td>0.0</td>\n      <td>1.0</td>\n      <td>0.0</td>\n      <td>1</td>\n      <td>5000</td>\n    </tr>\n    <tr>\n      <th>1</th>\n      <td>0.0</td>\n      <td>0.0</td>\n      <td>0.0</td>\n      <td>0.0</td>\n      <td>0.0</td>\n      <td>0.0</td>\n      <td>0.0</td>\n      <td>0.0</td>\n      <td>0.0</td>\n      <td>0.0</td>\n      <td>...</td>\n      <td>0.0</td>\n      <td>0.0</td>\n      <td>0.0</td>\n      <td>0.0</td>\n      <td>0.0</td>\n      <td>0.0</td>\n      <td>1.0</td>\n      <td>0.0</td>\n      <td>1</td>\n      <td>108590</td>\n    </tr>\n    <tr>\n      <th>2</th>\n      <td>0.0</td>\n      <td>0.0</td>\n      <td>0.0</td>\n      <td>0.0</td>\n      <td>0.0</td>\n      <td>0.0</td>\n      <td>0.0</td>\n      <td>0.0</td>\n      <td>0.0</td>\n      <td>0.0</td>\n      <td>...</td>\n      <td>0.0</td>\n      <td>0.0</td>\n      <td>0.0</td>\n      <td>0.0</td>\n      <td>0.0</td>\n      <td>0.0</td>\n      <td>1.0</td>\n      <td>0.0</td>\n      <td>1</td>\n      <td>5000</td>\n    </tr>\n    <tr>\n      <th>3</th>\n      <td>0.0</td>\n      <td>0.0</td>\n      <td>0.0</td>\n      <td>0.0</td>\n      <td>0.0</td>\n      <td>0.0</td>\n      <td>0.0</td>\n      <td>0.0</td>\n      <td>0.0</td>\n      <td>0.0</td>\n      <td>...</td>\n      <td>0.0</td>\n      <td>0.0</td>\n      <td>0.0</td>\n      <td>0.0</td>\n      <td>0.0</td>\n      <td>0.0</td>\n      <td>1.0</td>\n      <td>0.0</td>\n      <td>1</td>\n      <td>6692</td>\n    </tr>\n    <tr>\n      <th>4</th>\n      <td>0.0</td>\n      <td>0.0</td>\n      <td>0.0</td>\n      <td>0.0</td>\n      <td>0.0</td>\n      <td>0.0</td>\n      <td>0.0</td>\n      <td>0.0</td>\n      <td>0.0</td>\n      <td>0.0</td>\n      <td>...</td>\n      <td>1.0</td>\n      <td>0.0</td>\n      <td>0.0</td>\n      <td>0.0</td>\n      <td>0.0</td>\n      <td>0.0</td>\n      <td>1.0</td>\n      <td>0.0</td>\n      <td>1</td>\n      <td>142590</td>\n    </tr>\n  </tbody>\n</table>\n<p>5 rows × 116 columns</p>\n</div>",
      "text/plain": "   APPLICATION_TYPE_T10  APPLICATION_TYPE_T12  APPLICATION_TYPE_T13  \\\n0                   1.0                   0.0                   0.0   \n1                   0.0                   0.0                   0.0   \n2                   0.0                   0.0                   0.0   \n3                   0.0                   0.0                   0.0   \n4                   0.0                   0.0                   0.0   \n\n   APPLICATION_TYPE_T14  APPLICATION_TYPE_T15  APPLICATION_TYPE_T17  \\\n0                   0.0                   0.0                   0.0   \n1                   0.0                   0.0                   0.0   \n2                   0.0                   0.0                   0.0   \n3                   0.0                   0.0                   0.0   \n4                   0.0                   0.0                   0.0   \n\n   APPLICATION_TYPE_T19  APPLICATION_TYPE_T2  APPLICATION_TYPE_T25  \\\n0                   0.0                  0.0                   0.0   \n1                   0.0                  0.0                   0.0   \n2                   0.0                  0.0                   0.0   \n3                   0.0                  0.0                   0.0   \n4                   0.0                  0.0                   0.0   \n\n   APPLICATION_TYPE_T29  ...  INCOME_AMT_100000-499999  INCOME_AMT_10M-50M  \\\n0                   0.0  ...                       0.0                 0.0   \n1                   0.0  ...                       0.0                 0.0   \n2                   0.0  ...                       0.0                 0.0   \n3                   0.0  ...                       0.0                 0.0   \n4                   0.0  ...                       1.0                 0.0   \n\n   INCOME_AMT_1M-5M  INCOME_AMT_25000-99999  INCOME_AMT_50M+  \\\n0               0.0                     0.0              0.0   \n1               0.0                     0.0              0.0   \n2               0.0                     0.0              0.0   \n3               0.0                     0.0              0.0   \n4               0.0                     0.0              0.0   \n\n   INCOME_AMT_5M-10M  SPECIAL_CONSIDERATIONS_N  SPECIAL_CONSIDERATIONS_Y  \\\n0                0.0                       1.0                       0.0   \n1                0.0                       1.0                       0.0   \n2                0.0                       1.0                       0.0   \n3                0.0                       1.0                       0.0   \n4                0.0                       1.0                       0.0   \n\n   STATUS  ASK_AMT  \n0       1     5000  \n1       1   108590  \n2       1     5000  \n3       1     6692  \n4       1   142590  \n\n[5 rows x 116 columns]"
     },
     "execution_count": 46,
     "metadata": {},
     "output_type": "execute_result"
    }
   ],
   "source": [
    "# Define features set X by selecting all columns but IS_SUCCESSFUL\n",
    "X = encoded_df.drop(columns='IS_SUCCESSFUL')\n",
    "\n",
    "# Review the features DataFrame\n",
    "# YOUR CODE HERE\n",
    "X.head()"
   ]
  },
  {
   "cell_type": "markdown",
   "metadata": {},
   "source": [
    "### Step 6: Split the features and target sets into training and testing datasets.\n"
   ]
  },
  {
   "cell_type": "code",
   "execution_count": 47,
   "metadata": {},
   "outputs": [],
   "source": [
    "# Split the preprocessed data into a training and testing dataset\n",
    "# Assign the function a random_state equal to 1\n",
    "X_train, X_test, y_train, y_test = train_test_split(X, y, random_state=1)\n"
   ]
  },
  {
   "cell_type": "markdown",
   "metadata": {},
   "source": [
    "### Step 7: Use scikit-learn's `StandardScaler` to scale the features data."
   ]
  },
  {
   "cell_type": "code",
   "execution_count": 48,
   "metadata": {},
   "outputs": [],
   "source": [
    "# Create a StandardScaler instance\n",
    "scaler = StandardScaler()\n",
    "\n",
    "# Fit the scaler to the features training dataset\n",
    "X_scaler = scaler.fit(X_train)\n",
    "\n",
    "# Fit the scaler to the features training dataset\n",
    "X_train_scaled = scaler.transform(X_train)\n",
    "X_test_scaled = scaler.transform(X_test)\n"
   ]
  },
  {
   "cell_type": "markdown",
   "metadata": {},
   "source": [
    "---\n",
    "\n",
    "## Compile and Evaluate a Binary Classification Model Using a Neural Network"
   ]
  },
  {
   "cell_type": "markdown",
   "metadata": {},
   "source": [
    "### Step 1: Create a deep neural network by assigning the number of input features, the number of layers, and the number of neurons on each layer using Tensorflow’s Keras.\n",
    "\n",
    "> **Hint** You can start with a two-layer deep neural network model that uses the `relu` activation function for both layers.\n"
   ]
  },
  {
   "cell_type": "code",
   "execution_count": 49,
   "metadata": {},
   "outputs": [
    {
     "data": {
      "text/plain": "116"
     },
     "execution_count": 49,
     "metadata": {},
     "output_type": "execute_result"
    }
   ],
   "source": [
    "# Define the the number of inputs (features) to the model\n",
    "number_input_features = len(X_train.iloc[0])\n",
    "\n",
    "# Review the number of features\n",
    "number_input_features\n"
   ]
  },
  {
   "cell_type": "code",
   "execution_count": 50,
   "metadata": {},
   "outputs": [],
   "source": [
    "# Define the number of neurons in the output layer\n",
    "number_output_neurons = 1"
   ]
  },
  {
   "cell_type": "code",
   "execution_count": 51,
   "metadata": {},
   "outputs": [
    {
     "data": {
      "text/plain": "58"
     },
     "execution_count": 51,
     "metadata": {},
     "output_type": "execute_result"
    }
   ],
   "source": [
    "# Define the number of hidden nodes for the first hidden layer\n",
    "hidden_nodes_layer1 =  int((number_input_features + number_output_neurons) // 2)\n",
    "\n",
    "# Review the number hidden nodes in the first layer\n",
    "hidden_nodes_layer1\n"
   ]
  },
  {
   "cell_type": "code",
   "execution_count": 52,
   "metadata": {},
   "outputs": [
    {
     "data": {
      "text/plain": "29"
     },
     "execution_count": 52,
     "metadata": {},
     "output_type": "execute_result"
    }
   ],
   "source": [
    "# Define the number of hidden nodes for the second hidden layer\n",
    "hidden_nodes_layer2 =  int((hidden_nodes_layer1 + number_output_neurons) // 2)\n",
    "\n",
    "# Review the number hidden nodes in the second layer\n",
    "hidden_nodes_layer2\n"
   ]
  },
  {
   "cell_type": "code",
   "execution_count": 53,
   "metadata": {},
   "outputs": [],
   "source": [
    "# Create the Sequential model instance\n",
    "nn = Sequential()\n"
   ]
  },
  {
   "cell_type": "code",
   "execution_count": 54,
   "metadata": {},
   "outputs": [],
   "source": [
    "# Add the first hidden layer\n",
    "nn.add(Dense(units=hidden_nodes_layer1, activation='relu', input_dim=number_input_features, name=\"Layer_1\"))\n"
   ]
  },
  {
   "cell_type": "code",
   "execution_count": 55,
   "metadata": {},
   "outputs": [],
   "source": [
    "# Add the second hidden layer\n",
    "nn.add(Dense(units=hidden_nodes_layer2, activation='relu', name='Layer_2'))\n"
   ]
  },
  {
   "cell_type": "code",
   "execution_count": 56,
   "metadata": {},
   "outputs": [],
   "source": [
    "# Add the output layer to the model specifying the number of output neurons and activation function\n",
    "nn.add(Dense(units=number_output_neurons, activation='sigmoid', name='Output_layer'))\n"
   ]
  },
  {
   "cell_type": "code",
   "execution_count": 57,
   "metadata": {},
   "outputs": [
    {
     "name": "stdout",
     "output_type": "stream",
     "text": [
      "Model: \"sequential_1\"\n",
      "_________________________________________________________________\n",
      "Layer (type)                 Output Shape              Param #   \n",
      "=================================================================\n",
      "Layer_1 (Dense)              (None, 58)                6786      \n",
      "_________________________________________________________________\n",
      "Layer_2 (Dense)              (None, 29)                1711      \n",
      "_________________________________________________________________\n",
      "Output_layer (Dense)         (None, 1)                 30        \n",
      "=================================================================\n",
      "Total params: 8,527\n",
      "Trainable params: 8,527\n",
      "Non-trainable params: 0\n",
      "_________________________________________________________________\n"
     ]
    }
   ],
   "source": [
    "# Display the Sequential model summary\n",
    "nn.summary()\n"
   ]
  },
  {
   "cell_type": "markdown",
   "metadata": {},
   "source": [
    "### Step 2: Compile and fit the model using the `binary_crossentropy` loss function, the `adam` optimizer, and the `accuracy` evaluation metric.\n"
   ]
  },
  {
   "cell_type": "code",
   "execution_count": 58,
   "metadata": {},
   "outputs": [],
   "source": [
    "# Compile the Sequential model\n",
    "# YOUR CODE HERE\n",
    "nn.compile(loss='binary_crossentropy', optimizer='adam', metrics=['accuracy'])"
   ]
  },
  {
   "cell_type": "code",
   "execution_count": 59,
   "metadata": {},
   "outputs": [
    {
     "name": "stdout",
     "output_type": "stream",
     "text": [
      "Epoch 1/50\n",
      "804/804 [==============================] - 1s 851us/step - loss: 0.5709 - accuracy: 0.7236\n",
      "Epoch 2/50\n",
      "804/804 [==============================] - 1s 878us/step - loss: 0.5522 - accuracy: 0.7297\n",
      "Epoch 3/50\n",
      "804/804 [==============================] - 1s 1ms/step - loss: 0.5483 - accuracy: 0.7317\n",
      "Epoch 4/50\n",
      "804/804 [==============================] - 1s 960us/step - loss: 0.5472 - accuracy: 0.7322\n",
      "Epoch 5/50\n",
      "804/804 [==============================] - 1s 1ms/step - loss: 0.5455 - accuracy: 0.7338\n",
      "Epoch 6/50\n",
      "804/804 [==============================] - 1s 1ms/step - loss: 0.5444 - accuracy: 0.7322\n",
      "Epoch 7/50\n",
      "804/804 [==============================] - 1s 1ms/step - loss: 0.5434 - accuracy: 0.7327\n",
      "Epoch 8/50\n",
      "804/804 [==============================] - 1s 906us/step - loss: 0.5427 - accuracy: 0.7333\n",
      "Epoch 9/50\n",
      "804/804 [==============================] - 1s 1ms/step - loss: 0.5427 - accuracy: 0.7335\n",
      "Epoch 10/50\n",
      "804/804 [==============================] - 1s 1ms/step - loss: 0.5419 - accuracy: 0.7341\n",
      "Epoch 11/50\n",
      "804/804 [==============================] - 1s 940us/step - loss: 0.5412 - accuracy: 0.7355\n",
      "Epoch 12/50\n",
      "804/804 [==============================] - 1s 861us/step - loss: 0.5409 - accuracy: 0.7357\n",
      "Epoch 13/50\n",
      "804/804 [==============================] - 1s 986us/step - loss: 0.5400 - accuracy: 0.7362\n",
      "Epoch 14/50\n",
      "804/804 [==============================] - 1s 880us/step - loss: 0.5405 - accuracy: 0.7360\n",
      "Epoch 15/50\n",
      "804/804 [==============================] - 1s 861us/step - loss: 0.5392 - accuracy: 0.7365\n",
      "Epoch 16/50\n",
      "804/804 [==============================] - 1s 874us/step - loss: 0.5388 - accuracy: 0.7364\n",
      "Epoch 17/50\n",
      "804/804 [==============================] - 1s 908us/step - loss: 0.5389 - accuracy: 0.7371\n",
      "Epoch 18/50\n",
      "804/804 [==============================] - 1s 1ms/step - loss: 0.5383 - accuracy: 0.7365\n",
      "Epoch 19/50\n",
      "804/804 [==============================] - 1s 1ms/step - loss: 0.5384 - accuracy: 0.7368\n",
      "Epoch 20/50\n",
      "804/804 [==============================] - 1s 991us/step - loss: 0.5380 - accuracy: 0.7362\n",
      "Epoch 21/50\n",
      "804/804 [==============================] - 1s 869us/step - loss: 0.5378 - accuracy: 0.7365\n",
      "Epoch 22/50\n",
      "804/804 [==============================] - 1s 956us/step - loss: 0.5371 - accuracy: 0.7376\n",
      "Epoch 23/50\n",
      "804/804 [==============================] - 1s 1ms/step - loss: 0.5369 - accuracy: 0.7383\n",
      "Epoch 24/50\n",
      "804/804 [==============================] - 1s 892us/step - loss: 0.5367 - accuracy: 0.7388\n",
      "Epoch 25/50\n",
      "804/804 [==============================] - 1s 876us/step - loss: 0.5363 - accuracy: 0.7386\n",
      "Epoch 26/50\n",
      "804/804 [==============================] - 1s 1ms/step - loss: 0.5361 - accuracy: 0.7378\n",
      "Epoch 27/50\n",
      "804/804 [==============================] - 1s 1ms/step - loss: 0.5359 - accuracy: 0.7390\n",
      "Epoch 28/50\n",
      "804/804 [==============================] - 1s 959us/step - loss: 0.5357 - accuracy: 0.7393\n",
      "Epoch 29/50\n",
      "804/804 [==============================] - 1s 943us/step - loss: 0.5355 - accuracy: 0.7392\n",
      "Epoch 30/50\n",
      "804/804 [==============================] - 1s 860us/step - loss: 0.5349 - accuracy: 0.7390\n",
      "Epoch 31/50\n",
      "804/804 [==============================] - 1s 928us/step - loss: 0.5347 - accuracy: 0.7384\n",
      "Epoch 32/50\n",
      "804/804 [==============================] - 1s 1ms/step - loss: 0.5350 - accuracy: 0.7397\n",
      "Epoch 33/50\n",
      "804/804 [==============================] - 1s 1ms/step - loss: 0.5345 - accuracy: 0.7388\n",
      "Epoch 34/50\n",
      "804/804 [==============================] - 1s 1ms/step - loss: 0.5348 - accuracy: 0.7393\n",
      "Epoch 35/50\n",
      "804/804 [==============================] - 1s 1ms/step - loss: 0.5345 - accuracy: 0.7397\n",
      "Epoch 36/50\n",
      "804/804 [==============================] - 1s 1ms/step - loss: 0.5339 - accuracy: 0.7395\n",
      "Epoch 37/50\n",
      "804/804 [==============================] - 1s 926us/step - loss: 0.5338 - accuracy: 0.7393\n",
      "Epoch 38/50\n",
      "804/804 [==============================] - 1s 1ms/step - loss: 0.5339 - accuracy: 0.7399\n",
      "Epoch 39/50\n",
      "804/804 [==============================] - 1s 1ms/step - loss: 0.5333 - accuracy: 0.7394\n",
      "Epoch 40/50\n",
      "804/804 [==============================] - 1s 1ms/step - loss: 0.5334 - accuracy: 0.7408\n",
      "Epoch 41/50\n",
      "804/804 [==============================] - 1s 1ms/step - loss: 0.5335 - accuracy: 0.7409\n",
      "Epoch 42/50\n",
      "804/804 [==============================] - 1s 920us/step - loss: 0.5330 - accuracy: 0.7404\n",
      "Epoch 43/50\n",
      "804/804 [==============================] - 1s 972us/step - loss: 0.5332 - accuracy: 0.7400\n",
      "Epoch 44/50\n",
      "804/804 [==============================] - 1s 1ms/step - loss: 0.5329 - accuracy: 0.7407\n",
      "Epoch 45/50\n",
      "804/804 [==============================] - 1s 1ms/step - loss: 0.5328 - accuracy: 0.7403\n",
      "Epoch 46/50\n",
      "804/804 [==============================] - 1s 957us/step - loss: 0.5326 - accuracy: 0.7405\n",
      "Epoch 47/50\n",
      "804/804 [==============================] - 1s 1ms/step - loss: 0.5330 - accuracy: 0.7408\n",
      "Epoch 48/50\n",
      "804/804 [==============================] - 1s 1ms/step - loss: 0.5321 - accuracy: 0.7403\n",
      "Epoch 49/50\n",
      "804/804 [==============================] - 1s 1ms/step - loss: 0.5316 - accuracy: 0.7414\n",
      "Epoch 50/50\n",
      "804/804 [==============================] - 1s 971us/step - loss: 0.5319 - accuracy: 0.7414\n"
     ]
    },
    {
     "data": {
      "text/plain": "<keras.callbacks.History at 0x7f8cf8c0f590>"
     },
     "execution_count": 59,
     "metadata": {},
     "output_type": "execute_result"
    }
   ],
   "source": [
    "# Fit the model using 50 epochs and the training data\n",
    "nn.fit(X_train_scaled, y_train, epochs=50)\n"
   ]
  },
  {
   "cell_type": "markdown",
   "metadata": {},
   "source": [
    "### Step 3: Evaluate the model using the test data to determine the model’s loss and accuracy.\n"
   ]
  },
  {
   "cell_type": "code",
   "execution_count": 60,
   "metadata": {},
   "outputs": [
    {
     "name": "stdout",
     "output_type": "stream",
     "text": [
      "268/268 - 0s - loss: 0.5564 - accuracy: 0.7320\n",
      "Loss: 0.5563734173774719, Accuracy: 0.7320116758346558\n"
     ]
    }
   ],
   "source": [
    "# Evaluate the model loss and accuracy metrics using the evaluate method and the test data\n",
    "model_loss, model_accuracy = nn.evaluate(X_test_scaled, y_test, verbose=2)\n",
    "\n",
    "# Display the model loss and accuracy results\n",
    "print(f\"Loss: {model_loss}, Accuracy: {model_accuracy}\")"
   ]
  },
  {
   "cell_type": "markdown",
   "metadata": {},
   "source": [
    "### Step 4: Save and export your model to an HDF5 file, and name the file `AlphabetSoup.h5`. \n"
   ]
  },
  {
   "cell_type": "code",
   "execution_count": 61,
   "metadata": {},
   "outputs": [],
   "source": [
    "# Set the model's file path\n",
    "file_path = Path('./Resources/AlphabetSoup.h5')\n",
    "\n",
    "# Export your model to a HDF5 file\n",
    "# YOUR CODE HERE\n",
    "nn.save(file_path)"
   ]
  },
  {
   "cell_type": "markdown",
   "metadata": {},
   "source": [
    "---\n",
    "\n",
    "## Optimize the neural network model\n"
   ]
  },
  {
   "cell_type": "markdown",
   "metadata": {},
   "source": [
    "### Step 1: Define at least three new deep neural network models (resulting in the original plus 3 optimization attempts). With each, try to improve on your first model’s predictive accuracy.\n",
    "\n",
    "> **Rewind** Recall that perfect accuracy has a value of 1, so accuracy improves as its value moves closer to 1. To optimize your model for a predictive accuracy as close to 1 as possible, you can use any or all of the following techniques:\n",
    ">\n",
    "> * Adjust the input data by dropping different features columns to ensure that no variables or outliers confuse the model.\n",
    ">\n",
    "> * Add more neurons (nodes) to a hidden layer.\n",
    ">\n",
    "> * Add more hidden layers.\n",
    ">\n",
    "> * Use different activation functions for the hidden layers.\n",
    ">\n",
    "> * Add to or reduce the number of epochs in the training regimen.\n"
   ]
  },
  {
   "cell_type": "code",
   "execution_count": 62,
   "metadata": {},
   "outputs": [
    {
     "name": "stdout",
     "output_type": "stream",
     "text": [
      "Index(['APPLICATION_TYPE_T10', 'APPLICATION_TYPE_T12', 'APPLICATION_TYPE_T13',\n",
      "       'APPLICATION_TYPE_T14', 'APPLICATION_TYPE_T15', 'APPLICATION_TYPE_T17',\n",
      "       'APPLICATION_TYPE_T19', 'APPLICATION_TYPE_T2', 'APPLICATION_TYPE_T25',\n",
      "       'APPLICATION_TYPE_T29',\n",
      "       ...\n",
      "       'INCOME_AMT_100000-499999', 'INCOME_AMT_10M-50M', 'INCOME_AMT_1M-5M',\n",
      "       'INCOME_AMT_25000-99999', 'INCOME_AMT_50M+', 'INCOME_AMT_5M-10M',\n",
      "       'SPECIAL_CONSIDERATIONS_N', 'SPECIAL_CONSIDERATIONS_Y', 'STATUS',\n",
      "       'ASK_AMT'],\n",
      "      dtype='object', length=116)\n"
     ]
    }
   ],
   "source": [
    "print(X_train.T.index)"
   ]
  },
  {
   "cell_type": "markdown",
   "metadata": {},
   "source": [
    "### Alternative Model 1"
   ]
  },
  {
   "cell_type": "code",
   "execution_count": 63,
   "metadata": {},
   "outputs": [
    {
     "data": {
      "text/plain": "116"
     },
     "execution_count": 63,
     "metadata": {},
     "output_type": "execute_result"
    }
   ],
   "source": [
    "# Alternative #1: Adding one more hidden layers (3 hidden layers in total)\n",
    "\n",
    "# Define the the number of inputs (features) to the model\n",
    "number_input_features = len(X_train.iloc[0])\n",
    "\n",
    "# Review the number of features\n",
    "number_input_features"
   ]
  },
  {
   "cell_type": "code",
   "execution_count": 64,
   "metadata": {},
   "outputs": [],
   "source": [
    "# Define the number of neurons in the output layer\n",
    "number_output_neurons_A1 = 1"
   ]
  },
  {
   "cell_type": "code",
   "execution_count": 65,
   "metadata": {},
   "outputs": [],
   "source": [
    "# Define the number of hidden nodes for the first hidden layer\n",
    "hidden_nodes_layer1_A1 = int((number_input_features + number_output_neurons) // 2)\n",
    "hidden_nodes_layer2_A1 = int((hidden_nodes_layer1_A1 + number_output_neurons) // 2)\n",
    "hidden_nodes_layer3_A1 = int((hidden_nodes_layer2_A1 + number_output_neurons) // 2)\n",
    "# Review the number of hidden nodes in the first layer\n"
   ]
  },
  {
   "cell_type": "code",
   "execution_count": 66,
   "metadata": {},
   "outputs": [],
   "source": [
    "# Create the Sequential model instance\n",
    "nn_A1 = Sequential()"
   ]
  },
  {
   "cell_type": "code",
   "execution_count": 67,
   "metadata": {},
   "outputs": [
    {
     "name": "stdout",
     "output_type": "stream",
     "text": [
      "Model: \"sequential_2\"\n",
      "_________________________________________________________________\n",
      "Layer (type)                 Output Shape              Param #   \n",
      "=================================================================\n",
      "dense_6 (Dense)              (None, 58)                6786      \n",
      "_________________________________________________________________\n",
      "dense_7 (Dense)              (None, 29)                1711      \n",
      "_________________________________________________________________\n",
      "dense_8 (Dense)              (None, 15)                450       \n",
      "_________________________________________________________________\n",
      "dense_9 (Dense)              (None, 1)                 16        \n",
      "=================================================================\n",
      "Total params: 8,963\n",
      "Trainable params: 8,963\n",
      "Non-trainable params: 0\n",
      "_________________________________________________________________\n"
     ]
    }
   ],
   "source": [
    "# Add hidden layers\n",
    "nn_A1.add(Dense(units=hidden_nodes_layer1_A1, input_dim=number_input_features, activation='relu'))\n",
    "nn_A1.add(Dense(units=hidden_nodes_layer2_A1, activation='relu'))\n",
    "nn_A1.add(Dense(units=hidden_nodes_layer3_A1, activation='relu'))\n",
    "\n",
    "# Output layer\n",
    "nn_A1.add(Dense(units=number_output_neurons_A1, activation='sigmoid'))\n",
    "\n",
    "\n",
    "# Check the structure of the model\n",
    "nn_A1.summary()"
   ]
  },
  {
   "cell_type": "code",
   "execution_count": 68,
   "metadata": {},
   "outputs": [],
   "source": [
    "# Compile the Sequential model\n",
    "nn_A1.compile(loss='binary_crossentropy', optimizer='adam', metrics=['accuracy'])\n"
   ]
  },
  {
   "cell_type": "code",
   "execution_count": 69,
   "metadata": {},
   "outputs": [
    {
     "name": "stdout",
     "output_type": "stream",
     "text": [
      "Epoch 1/50\n",
      "804/804 [==============================] - 1s 910us/step - loss: 0.5765 - accuracy: 0.7153\n",
      "Epoch 2/50\n",
      "804/804 [==============================] - 1s 926us/step - loss: 0.5515 - accuracy: 0.7308\n",
      "Epoch 3/50\n",
      "804/804 [==============================] - 1s 876us/step - loss: 0.5479 - accuracy: 0.7333\n",
      "Epoch 4/50\n",
      "804/804 [==============================] - 1s 952us/step - loss: 0.5454 - accuracy: 0.7345\n",
      "Epoch 5/50\n",
      "804/804 [==============================] - 1s 957us/step - loss: 0.5447 - accuracy: 0.7342\n",
      "Epoch 6/50\n",
      "804/804 [==============================] - 1s 897us/step - loss: 0.5439 - accuracy: 0.7339\n",
      "Epoch 7/50\n",
      "804/804 [==============================] - 1s 956us/step - loss: 0.5434 - accuracy: 0.7343\n",
      "Epoch 8/50\n",
      "804/804 [==============================] - 1s 1ms/step - loss: 0.5423 - accuracy: 0.7366\n",
      "Epoch 9/50\n",
      "804/804 [==============================] - 1s 1ms/step - loss: 0.5415 - accuracy: 0.7365\n",
      "Epoch 10/50\n",
      "804/804 [==============================] - 1s 998us/step - loss: 0.5410 - accuracy: 0.7355\n",
      "Epoch 11/50\n",
      "804/804 [==============================] - 1s 1ms/step - loss: 0.5403 - accuracy: 0.7375\n",
      "Epoch 12/50\n",
      "804/804 [==============================] - 1s 1ms/step - loss: 0.5404 - accuracy: 0.7368\n",
      "Epoch 13/50\n",
      "804/804 [==============================] - 1s 1ms/step - loss: 0.5398 - accuracy: 0.7362\n",
      "Epoch 14/50\n",
      "804/804 [==============================] - 1s 1ms/step - loss: 0.5391 - accuracy: 0.7382\n",
      "Epoch 15/50\n",
      "804/804 [==============================] - 1s 1ms/step - loss: 0.5383 - accuracy: 0.7378\n",
      "Epoch 16/50\n",
      "804/804 [==============================] - 1s 1ms/step - loss: 0.5379 - accuracy: 0.7378\n",
      "Epoch 17/50\n",
      "804/804 [==============================] - 1s 1ms/step - loss: 0.5380 - accuracy: 0.7393\n",
      "Epoch 18/50\n",
      "804/804 [==============================] - 1s 1ms/step - loss: 0.5382 - accuracy: 0.7378\n",
      "Epoch 19/50\n",
      "804/804 [==============================] - 1s 1ms/step - loss: 0.5369 - accuracy: 0.7393\n",
      "Epoch 20/50\n",
      "804/804 [==============================] - 1s 1ms/step - loss: 0.5374 - accuracy: 0.7394\n",
      "Epoch 21/50\n",
      "804/804 [==============================] - 1s 997us/step - loss: 0.5367 - accuracy: 0.7390\n",
      "Epoch 22/50\n",
      "804/804 [==============================] - 1s 1ms/step - loss: 0.5361 - accuracy: 0.7393\n",
      "Epoch 23/50\n",
      "804/804 [==============================] - 1s 972us/step - loss: 0.5362 - accuracy: 0.7402\n",
      "Epoch 24/50\n",
      "804/804 [==============================] - 1s 1ms/step - loss: 0.5362 - accuracy: 0.7388\n",
      "Epoch 25/50\n",
      "804/804 [==============================] - 1s 1ms/step - loss: 0.5357 - accuracy: 0.7405\n",
      "Epoch 26/50\n",
      "804/804 [==============================] - 1s 1ms/step - loss: 0.5355 - accuracy: 0.7394\n",
      "Epoch 27/50\n",
      "804/804 [==============================] - 1s 1ms/step - loss: 0.5349 - accuracy: 0.7399\n",
      "Epoch 28/50\n",
      "804/804 [==============================] - 1s 996us/step - loss: 0.5349 - accuracy: 0.7389\n",
      "Epoch 29/50\n",
      "804/804 [==============================] - 1s 944us/step - loss: 0.5345 - accuracy: 0.7393\n",
      "Epoch 30/50\n",
      "804/804 [==============================] - 1s 953us/step - loss: 0.5351 - accuracy: 0.7407\n",
      "Epoch 31/50\n",
      "804/804 [==============================] - 1s 1ms/step - loss: 0.5340 - accuracy: 0.7394\n",
      "Epoch 32/50\n",
      "804/804 [==============================] - 1s 1ms/step - loss: 0.5342 - accuracy: 0.7396\n",
      "Epoch 33/50\n",
      "804/804 [==============================] - 1s 1ms/step - loss: 0.5342 - accuracy: 0.7388\n",
      "Epoch 34/50\n",
      "804/804 [==============================] - 1s 975us/step - loss: 0.5340 - accuracy: 0.7413\n",
      "Epoch 35/50\n",
      "804/804 [==============================] - 1s 1ms/step - loss: 0.5335 - accuracy: 0.7398\n",
      "Epoch 36/50\n",
      "804/804 [==============================] - 1s 921us/step - loss: 0.5332 - accuracy: 0.7399\n",
      "Epoch 37/50\n",
      "804/804 [==============================] - 1s 910us/step - loss: 0.5333 - accuracy: 0.7399\n",
      "Epoch 38/50\n",
      "804/804 [==============================] - 1s 896us/step - loss: 0.5329 - accuracy: 0.7408\n",
      "Epoch 39/50\n",
      "804/804 [==============================] - 1s 953us/step - loss: 0.5329 - accuracy: 0.7399\n",
      "Epoch 40/50\n",
      "804/804 [==============================] - 1s 885us/step - loss: 0.5325 - accuracy: 0.7411\n",
      "Epoch 41/50\n",
      "804/804 [==============================] - 1s 880us/step - loss: 0.5328 - accuracy: 0.7406\n",
      "Epoch 42/50\n",
      "804/804 [==============================] - 1s 869us/step - loss: 0.5320 - accuracy: 0.7416\n",
      "Epoch 43/50\n",
      "804/804 [==============================] - 1s 869us/step - loss: 0.5325 - accuracy: 0.7411\n",
      "Epoch 44/50\n",
      "804/804 [==============================] - 1s 889us/step - loss: 0.5323 - accuracy: 0.7401\n",
      "Epoch 45/50\n",
      "804/804 [==============================] - 1s 1ms/step - loss: 0.5320 - accuracy: 0.7399\n",
      "Epoch 46/50\n",
      "804/804 [==============================] - 1s 964us/step - loss: 0.5321 - accuracy: 0.7418\n",
      "Epoch 47/50\n",
      "804/804 [==============================] - 1s 882us/step - loss: 0.5316 - accuracy: 0.7405\n",
      "Epoch 48/50\n",
      "804/804 [==============================] - 1s 921us/step - loss: 0.5316 - accuracy: 0.7413\n",
      "Epoch 49/50\n",
      "804/804 [==============================] - 1s 958us/step - loss: 0.5311 - accuracy: 0.7409\n",
      "Epoch 50/50\n",
      "804/804 [==============================] - 1s 1ms/step - loss: 0.5315 - accuracy: 0.7411\n"
     ]
    }
   ],
   "source": [
    "# Fit the model using 50 epochs and the training data\n",
    "fit_model_A1 = nn_A1.fit(X_train_scaled, y_train, epochs=50)\n"
   ]
  },
  {
   "cell_type": "code",
   "execution_count": 70,
   "metadata": {},
   "outputs": [
    {
     "name": "stdout",
     "output_type": "stream",
     "text": [
      "268/268 - 0s - loss: 0.5586 - accuracy: 0.7261\n",
      "Altervative #1: Adding an additional layer slightly hurt loss and accuracy. Loss: 0.5586099624633789, Accuracy: 0.726064145565033\n"
     ]
    }
   ],
   "source": [
    "# Evaluate the model loss and accuracy metrics using the evaluate method and the test data\n",
    "model_loss, model_accuracy = nn_A1.evaluate(X_test_scaled, y_test, verbose=2)\n",
    "\n",
    "# Display the model loss and accuracy results\n",
    "print(f\"Altervative #1: Adding an additional layer slightly hurt loss and accuracy. Loss: {model_loss}, Accuracy: {model_accuracy}\")"
   ]
  },
  {
   "cell_type": "markdown",
   "metadata": {},
   "source": [
    "#### Alternative Model 2"
   ]
  },
  {
   "cell_type": "code",
   "execution_count": 71,
   "metadata": {},
   "outputs": [],
   "source": [
    "# Alternative #2: Removing constant features from training and test sets\n",
    "\n",
    "# Create a VarianceThreshold instance\n",
    "constant_filter = VarianceThreshold(threshold=0)"
   ]
  },
  {
   "cell_type": "code",
   "execution_count": 72,
   "metadata": {},
   "outputs": [
    {
     "data": {
      "text/plain": "VarianceThreshold(threshold=0)"
     },
     "execution_count": 72,
     "metadata": {},
     "output_type": "execute_result"
    }
   ],
   "source": [
    "# Fit the scaler to the training dataset\n",
    "constant_filter.fit(X_train)"
   ]
  },
  {
   "cell_type": "code",
   "execution_count": 73,
   "metadata": {},
   "outputs": [
    {
     "data": {
      "text/plain": "109"
     },
     "execution_count": 73,
     "metadata": {},
     "output_type": "execute_result"
    }
   ],
   "source": [
    "# Determine the number of non-constant feautues for NN modeling\n",
    "X_train_non_constant_len = len(X_train.columns[constant_filter.get_support()])\n",
    "X_train_non_constant_len"
   ]
  },
  {
   "cell_type": "code",
   "execution_count": 74,
   "metadata": {},
   "outputs": [],
   "source": [
    "# List constant columns\n",
    "constant_columns = [column for column in X_train.columns\n",
    "    if column not in X_train.columns[constant_filter.get_support()]\n",
    "]"
   ]
  },
  {
   "cell_type": "code",
   "execution_count": 75,
   "metadata": {},
   "outputs": [],
   "source": [
    "# Remove constant features from training and test data sets\n",
    "X_train_A2 = constant_filter.transform(X_train)\n",
    "X_test_A2 = constant_filter.transform(X_test)"
   ]
  },
  {
   "cell_type": "code",
   "execution_count": 76,
   "metadata": {},
   "outputs": [],
   "source": [
    "# Create a StandardScaler instance\n",
    "scaler_A2 = StandardScaler()\n",
    "\n",
    "X_scaler_A2 = scaler_A2.fit(X_train_A2)\n",
    "\n",
    "X_train_A2_scaled = scaler_A2.transform(X_train_A2)\n",
    "X_test_A2_scaled = scaler_A2.transform(X_test_A2)"
   ]
  },
  {
   "cell_type": "code",
   "execution_count": 77,
   "metadata": {},
   "outputs": [
    {
     "data": {
      "text/plain": "109"
     },
     "execution_count": 77,
     "metadata": {},
     "output_type": "execute_result"
    }
   ],
   "source": [
    "# Define the the number of inputs (features) to the model\n",
    "number_input_features = X_train_non_constant_len\n",
    "\n",
    "# Review the number of features\n",
    "number_input_features"
   ]
  },
  {
   "cell_type": "code",
   "execution_count": 78,
   "metadata": {},
   "outputs": [],
   "source": [
    "# Define the number of neurons in the output layer\n",
    "number_output_neurons = 1"
   ]
  },
  {
   "cell_type": "code",
   "execution_count": 79,
   "metadata": {},
   "outputs": [],
   "source": [
    "# Define the number of hidden nodes for the first hidden layer\n",
    "hidden_nodes_layer1_A2 = int((number_input_features + number_output_neurons) // 2)\n",
    "hidden_nodes_layer2_A2 = int((hidden_nodes_layer1_A2 + number_output_neurons) // 2)\n"
   ]
  },
  {
   "cell_type": "code",
   "execution_count": 80,
   "metadata": {},
   "outputs": [],
   "source": [
    "# Create the Sequential model instance\n",
    "nn_A2 = Sequential()"
   ]
  },
  {
   "cell_type": "code",
   "execution_count": 81,
   "metadata": {},
   "outputs": [
    {
     "name": "stdout",
     "output_type": "stream",
     "text": [
      "Model: \"sequential_3\"\n",
      "_________________________________________________________________\n",
      "Layer (type)                 Output Shape              Param #   \n",
      "=================================================================\n",
      "dense_10 (Dense)             (None, 58)                6380      \n",
      "_________________________________________________________________\n",
      "dense_11 (Dense)             (None, 28)                1652      \n",
      "_________________________________________________________________\n",
      "dense_12 (Dense)             (None, 1)                 29        \n",
      "=================================================================\n",
      "Total params: 8,061\n",
      "Trainable params: 8,061\n",
      "Non-trainable params: 0\n",
      "_________________________________________________________________\n"
     ]
    }
   ],
   "source": [
    "nn_A2.add(Dense(units=hidden_nodes_layer1_A1, input_dim=number_input_features, activation='relu'))\n",
    "nn_A2.add(Dense(units=hidden_nodes_layer2_A2, activation='relu'))\n",
    "\n",
    "\n",
    "# Output layer\n",
    "nn_A2.add(Dense(units=number_output_neurons, activation='sigmoid'))\n",
    "# Check the structure of the model\n",
    "# YOUR CODE HERE\n",
    "nn_A2.summary()"
   ]
  },
  {
   "cell_type": "code",
   "execution_count": 82,
   "metadata": {},
   "outputs": [],
   "source": [
    "# Compile the model\n",
    "nn_A2.compile(loss='binary_crossentropy', optimizer='adam', metrics=['accuracy'])\n"
   ]
  },
  {
   "cell_type": "code",
   "execution_count": 83,
   "metadata": {},
   "outputs": [
    {
     "name": "stdout",
     "output_type": "stream",
     "text": [
      "Epoch 1/50\n",
      "804/804 [==============================] - 1s 949us/step - loss: 0.5757 - accuracy: 0.7194\n",
      "Epoch 2/50\n",
      "804/804 [==============================] - 1s 1ms/step - loss: 0.5529 - accuracy: 0.7295\n",
      "Epoch 3/50\n",
      "804/804 [==============================] - 1s 1ms/step - loss: 0.5498 - accuracy: 0.7315\n",
      "Epoch 4/50\n",
      "804/804 [==============================] - 1s 1ms/step - loss: 0.5472 - accuracy: 0.7324\n",
      "Epoch 5/50\n",
      "804/804 [==============================] - 1s 1ms/step - loss: 0.5463 - accuracy: 0.7321\n",
      "Epoch 6/50\n",
      "804/804 [==============================] - 1s 1ms/step - loss: 0.5445 - accuracy: 0.7341\n",
      "Epoch 7/50\n",
      "804/804 [==============================] - 1s 845us/step - loss: 0.5444 - accuracy: 0.7346\n",
      "Epoch 8/50\n",
      "804/804 [==============================] - 1s 881us/step - loss: 0.5438 - accuracy: 0.7338\n",
      "Epoch 9/50\n",
      "804/804 [==============================] - 1s 1ms/step - loss: 0.5425 - accuracy: 0.7355\n",
      "Epoch 10/50\n",
      "804/804 [==============================] - 1s 968us/step - loss: 0.5417 - accuracy: 0.7348\n",
      "Epoch 11/50\n",
      "804/804 [==============================] - 1s 979us/step - loss: 0.5412 - accuracy: 0.7352\n",
      "Epoch 12/50\n",
      "804/804 [==============================] - 1s 864us/step - loss: 0.5408 - accuracy: 0.7360\n",
      "Epoch 13/50\n",
      "804/804 [==============================] - 1s 891us/step - loss: 0.5405 - accuracy: 0.7360\n",
      "Epoch 14/50\n",
      "804/804 [==============================] - 1s 904us/step - loss: 0.5408 - accuracy: 0.7355\n",
      "Epoch 15/50\n",
      "804/804 [==============================] - 1s 897us/step - loss: 0.5399 - accuracy: 0.7360\n",
      "Epoch 16/50\n",
      "804/804 [==============================] - 1s 847us/step - loss: 0.5391 - accuracy: 0.7366\n",
      "Epoch 17/50\n",
      "804/804 [==============================] - 1s 965us/step - loss: 0.5384 - accuracy: 0.7373\n",
      "Epoch 18/50\n",
      "804/804 [==============================] - 1s 1ms/step - loss: 0.5383 - accuracy: 0.7363\n",
      "Epoch 19/50\n",
      "804/804 [==============================] - 1s 1ms/step - loss: 0.5384 - accuracy: 0.7359\n",
      "Epoch 20/50\n",
      "804/804 [==============================] - 1s 971us/step - loss: 0.5374 - accuracy: 0.7371\n",
      "Epoch 21/50\n",
      "804/804 [==============================] - 1s 999us/step - loss: 0.5373 - accuracy: 0.7379\n",
      "Epoch 22/50\n",
      "804/804 [==============================] - 1s 1ms/step - loss: 0.5375 - accuracy: 0.7387\n",
      "Epoch 23/50\n",
      "804/804 [==============================] - 1s 951us/step - loss: 0.5368 - accuracy: 0.7373\n",
      "Epoch 24/50\n",
      "804/804 [==============================] - 1s 920us/step - loss: 0.5368 - accuracy: 0.7374\n",
      "Epoch 25/50\n",
      "804/804 [==============================] - 1s 829us/step - loss: 0.5362 - accuracy: 0.7376\n",
      "Epoch 26/50\n",
      "804/804 [==============================] - 1s 890us/step - loss: 0.5364 - accuracy: 0.7381\n",
      "Epoch 27/50\n",
      "804/804 [==============================] - 1s 1ms/step - loss: 0.5360 - accuracy: 0.7385\n",
      "Epoch 28/50\n",
      "804/804 [==============================] - 1s 1ms/step - loss: 0.5358 - accuracy: 0.7396\n",
      "Epoch 29/50\n",
      "804/804 [==============================] - 1s 1ms/step - loss: 0.5347 - accuracy: 0.7390\n",
      "Epoch 30/50\n",
      "804/804 [==============================] - 1s 984us/step - loss: 0.5354 - accuracy: 0.7387\n",
      "Epoch 31/50\n",
      "804/804 [==============================] - 1s 1ms/step - loss: 0.5352 - accuracy: 0.7386\n",
      "Epoch 32/50\n",
      "804/804 [==============================] - 1s 1ms/step - loss: 0.5348 - accuracy: 0.7392\n",
      "Epoch 33/50\n",
      "804/804 [==============================] - 1s 1ms/step - loss: 0.5353 - accuracy: 0.7395\n",
      "Epoch 34/50\n",
      "804/804 [==============================] - 1s 1ms/step - loss: 0.5347 - accuracy: 0.7402\n",
      "Epoch 35/50\n",
      "804/804 [==============================] - 1s 1ms/step - loss: 0.5339 - accuracy: 0.7393\n",
      "Epoch 36/50\n",
      "804/804 [==============================] - 1s 954us/step - loss: 0.5339 - accuracy: 0.7396\n",
      "Epoch 37/50\n",
      "804/804 [==============================] - 1s 939us/step - loss: 0.5341 - accuracy: 0.7407\n",
      "Epoch 38/50\n",
      "804/804 [==============================] - 1s 963us/step - loss: 0.5338 - accuracy: 0.7399\n",
      "Epoch 39/50\n",
      "804/804 [==============================] - 1s 1ms/step - loss: 0.5334 - accuracy: 0.7395\n",
      "Epoch 40/50\n",
      "804/804 [==============================] - 1s 934us/step - loss: 0.5342 - accuracy: 0.7404\n",
      "Epoch 41/50\n",
      "804/804 [==============================] - 1s 977us/step - loss: 0.5331 - accuracy: 0.7404\n",
      "Epoch 42/50\n",
      "804/804 [==============================] - 1s 921us/step - loss: 0.5332 - accuracy: 0.7396\n",
      "Epoch 43/50\n",
      "804/804 [==============================] - 1s 1ms/step - loss: 0.5326 - accuracy: 0.7404\n",
      "Epoch 44/50\n",
      "804/804 [==============================] - 1s 1ms/step - loss: 0.5329 - accuracy: 0.7408\n",
      "Epoch 45/50\n",
      "804/804 [==============================] - 1s 893us/step - loss: 0.5326 - accuracy: 0.7405\n",
      "Epoch 46/50\n",
      "804/804 [==============================] - 1s 940us/step - loss: 0.5322 - accuracy: 0.7417\n",
      "Epoch 47/50\n",
      "804/804 [==============================] - 1s 1ms/step - loss: 0.5326 - accuracy: 0.7404\n",
      "Epoch 48/50\n",
      "804/804 [==============================] - 1s 1ms/step - loss: 0.5319 - accuracy: 0.7404\n",
      "Epoch 49/50\n",
      "804/804 [==============================] - 1s 1ms/step - loss: 0.5317 - accuracy: 0.7411\n",
      "Epoch 50/50\n",
      "804/804 [==============================] - 1s 939us/step - loss: 0.5318 - accuracy: 0.7403\n"
     ]
    },
    {
     "data": {
      "text/plain": "<keras.callbacks.History at 0x7f8ce33a7610>"
     },
     "execution_count": 83,
     "metadata": {},
     "output_type": "execute_result"
    }
   ],
   "source": [
    "# Fit the model\n",
    "# YOUR CODE HERE\n",
    "nn_A2.fit(X_train_A2_scaled, y_train, epochs=50)"
   ]
  },
  {
   "cell_type": "code",
   "execution_count": 84,
   "metadata": {},
   "outputs": [
    {
     "name": "stdout",
     "output_type": "stream",
     "text": [
      "268/268 - 0s - loss: 0.5620 - accuracy: 0.7289\n",
      "Altervative #2: Removing non-constant features slightly hurt loss while accuracy remained the same. Loss: 0.5619950294494629, Accuracy: 0.728863000869751\n"
     ]
    }
   ],
   "source": [
    "# Evaluate the model loss and accuracy metrics using the evaluate method and the test data\n",
    "model_loss, model_accuracy = nn_A2.evaluate(X_test_A2_scaled, y_test, verbose=2)\n",
    "\n",
    "# Display the model loss and accuracy results\n",
    "print(f\"Altervative #2: Removing non-constant features slightly hurt loss while accuracy remained the same. Loss: {model_loss}, Accuracy: {model_accuracy}\")"
   ]
  },
  {
   "cell_type": "markdown",
   "metadata": {},
   "source": [
    "#### Alternative #3"
   ]
  },
  {
   "cell_type": "code",
   "execution_count": 85,
   "metadata": {},
   "outputs": [],
   "source": [
    "# Alternative #3: Remove quasi-constant features using VarianceThreshold"
   ]
  },
  {
   "cell_type": "code",
   "execution_count": 86,
   "metadata": {},
   "outputs": [],
   "source": [
    "# Drop constant columns from training and testing data sets\n",
    "X_train_A3 = X_train.drop(columns=constant_columns)\n",
    "X_test_A3 = X_test.drop(columns=constant_columns)"
   ]
  },
  {
   "cell_type": "code",
   "execution_count": 87,
   "metadata": {},
   "outputs": [],
   "source": [
    "# Create instance of VarianceThreshold with a 1% threshold\n",
    "qconstant_filter = VarianceThreshold(threshold=0.01)"
   ]
  },
  {
   "cell_type": "code",
   "execution_count": 88,
   "metadata": {},
   "outputs": [
    {
     "data": {
      "text/plain": "VarianceThreshold(threshold=0.01)"
     },
     "execution_count": 88,
     "metadata": {},
     "output_type": "execute_result"
    }
   ],
   "source": [
    "# Fit and transform the training set without constant columns\n",
    "qconstant_filter.fit(X_train_A3)\n",
    "\n"
   ]
  },
  {
   "cell_type": "code",
   "execution_count": 89,
   "metadata": {},
   "outputs": [
    {
     "data": {
      "text/plain": "29"
     },
     "execution_count": 89,
     "metadata": {},
     "output_type": "execute_result"
    }
   ],
   "source": [
    "# Number of quasi constant features\n",
    "X_train_quasi_constant_len = len(X_train_A3.columns[qconstant_filter.get_support()])\n",
    "X_train_quasi_constant_len"
   ]
  },
  {
   "cell_type": "code",
   "execution_count": 90,
   "metadata": {},
   "outputs": [],
   "source": [
    "# Apply the model to only include quasi constant features\n",
    "X_train_A3 = qconstant_filter.transform(X_train_A3)\n",
    "X_test_A3 = qconstant_filter.transform(X_test_A3)"
   ]
  },
  {
   "cell_type": "code",
   "execution_count": 91,
   "metadata": {},
   "outputs": [],
   "source": [
    "# Create a StandardScaler instance\n",
    "scaler_A3 = StandardScaler()"
   ]
  },
  {
   "cell_type": "code",
   "execution_count": 92,
   "metadata": {},
   "outputs": [],
   "source": [
    "# Fit and transform the quasi constant features\n",
    "X_scaler_A3 = scaler_A3.fit(X_train_A3)\n",
    "\n",
    "X_train_A3_scaled = scaler_A3.transform(X_train_A3)\n",
    "X_test_A3_scaled = scaler_A3.transform(X_test_A3)"
   ]
  },
  {
   "cell_type": "code",
   "execution_count": 93,
   "metadata": {},
   "outputs": [],
   "source": [
    "# Define the number of features\n",
    "number_input_features_A3 = X_train_quasi_constant_len\n",
    "\n",
    "number_output_neurons_A3 = 1"
   ]
  },
  {
   "cell_type": "code",
   "execution_count": 94,
   "metadata": {},
   "outputs": [],
   "source": [
    "# Define the number of nodes in each hidden layer\n",
    "hidden_nodes_layer1_A3 = int((X_train_quasi_constant_len + number_output_neurons) // 2)\n",
    "hidden_nodes_layer2_A3 = int(hidden_nodes_layer1_A3 + number_output_neurons) // 2"
   ]
  },
  {
   "cell_type": "code",
   "execution_count": 95,
   "metadata": {},
   "outputs": [],
   "source": [
    "# Create a Sequential instance\n",
    "nn_A3 = Sequential()"
   ]
  },
  {
   "cell_type": "code",
   "execution_count": 96,
   "metadata": {},
   "outputs": [
    {
     "name": "stdout",
     "output_type": "stream",
     "text": [
      "Model: \"sequential_4\"\n",
      "_________________________________________________________________\n",
      "Layer (type)                 Output Shape              Param #   \n",
      "=================================================================\n",
      "dense_13 (Dense)             (None, 15)                450       \n",
      "_________________________________________________________________\n",
      "dense_14 (Dense)             (None, 8)                 128       \n",
      "_________________________________________________________________\n",
      "dense_15 (Dense)             (None, 1)                 9         \n",
      "=================================================================\n",
      "Total params: 587\n",
      "Trainable params: 587\n",
      "Non-trainable params: 0\n",
      "_________________________________________________________________\n"
     ]
    }
   ],
   "source": [
    "# Add the layers to the model\n",
    "\n",
    "nn_A3.add(Dense(units=hidden_nodes_layer1_A3, input_dim=number_input_features_A3, activation='relu'))\n",
    "nn_A3.add(Dense(units=hidden_nodes_layer2_A3, activation='relu'))\n",
    "\n",
    "\n",
    "# Output layer\n",
    "nn_A3.add(Dense(units=number_output_neurons_A3, activation='sigmoid'))\n",
    "# Check the structure of the model\n",
    "# YOUR CODE HERE\n",
    "nn_A3.summary()"
   ]
  },
  {
   "cell_type": "code",
   "execution_count": 97,
   "metadata": {},
   "outputs": [],
   "source": [
    "nn_A3.compile(loss='binary_crossentropy', optimizer='adam', metrics=['accuracy'])"
   ]
  },
  {
   "cell_type": "code",
   "execution_count": 98,
   "metadata": {},
   "outputs": [
    {
     "name": "stdout",
     "output_type": "stream",
     "text": [
      "Epoch 1/50\n",
      "804/804 [==============================] - 1s 822us/step - loss: 0.5956 - accuracy: 0.6899\n",
      "Epoch 2/50\n",
      "804/804 [==============================] - 1s 853us/step - loss: 0.5611 - accuracy: 0.7215\n",
      "Epoch 3/50\n",
      "804/804 [==============================] - 1s 849us/step - loss: 0.5559 - accuracy: 0.7259\n",
      "Epoch 4/50\n",
      "804/804 [==============================] - 1s 788us/step - loss: 0.5533 - accuracy: 0.7272\n",
      "Epoch 5/50\n",
      "804/804 [==============================] - 1s 967us/step - loss: 0.5517 - accuracy: 0.7290\n",
      "Epoch 6/50\n",
      "804/804 [==============================] - 1s 1ms/step - loss: 0.5503 - accuracy: 0.7291\n",
      "Epoch 7/50\n",
      "804/804 [==============================] - 1s 795us/step - loss: 0.5496 - accuracy: 0.7295\n",
      "Epoch 8/50\n",
      "804/804 [==============================] - 1s 781us/step - loss: 0.5485 - accuracy: 0.7294\n",
      "Epoch 9/50\n",
      "804/804 [==============================] - 1s 758us/step - loss: 0.5480 - accuracy: 0.7310\n",
      "Epoch 10/50\n",
      "804/804 [==============================] - 1s 847us/step - loss: 0.5475 - accuracy: 0.7317\n",
      "Epoch 11/50\n",
      "804/804 [==============================] - 1s 803us/step - loss: 0.5473 - accuracy: 0.7318\n",
      "Epoch 12/50\n",
      "804/804 [==============================] - 1s 791us/step - loss: 0.5468 - accuracy: 0.7321\n",
      "Epoch 13/50\n",
      "804/804 [==============================] - 1s 925us/step - loss: 0.5465 - accuracy: 0.7325\n",
      "Epoch 14/50\n",
      "804/804 [==============================] - 1s 1ms/step - loss: 0.5462 - accuracy: 0.7331\n",
      "Epoch 15/50\n",
      "804/804 [==============================] - 1s 980us/step - loss: 0.5459 - accuracy: 0.7331\n",
      "Epoch 16/50\n",
      "804/804 [==============================] - 1s 1ms/step - loss: 0.5453 - accuracy: 0.7331\n",
      "Epoch 17/50\n",
      "804/804 [==============================] - 1s 890us/step - loss: 0.5450 - accuracy: 0.7343\n",
      "Epoch 18/50\n",
      "804/804 [==============================] - 1s 830us/step - loss: 0.5447 - accuracy: 0.7345\n",
      "Epoch 19/50\n",
      "804/804 [==============================] - 1s 923us/step - loss: 0.5450 - accuracy: 0.7345\n",
      "Epoch 20/50\n",
      "804/804 [==============================] - 1s 1ms/step - loss: 0.5442 - accuracy: 0.7350\n",
      "Epoch 21/50\n",
      "804/804 [==============================] - 1s 858us/step - loss: 0.5447 - accuracy: 0.7342\n",
      "Epoch 22/50\n",
      "804/804 [==============================] - 1s 841us/step - loss: 0.5442 - accuracy: 0.7352\n",
      "Epoch 23/50\n",
      "804/804 [==============================] - 1s 944us/step - loss: 0.5442 - accuracy: 0.7352\n",
      "Epoch 24/50\n",
      "804/804 [==============================] - 1s 970us/step - loss: 0.5441 - accuracy: 0.7350\n",
      "Epoch 25/50\n",
      "804/804 [==============================] - 1s 1ms/step - loss: 0.5438 - accuracy: 0.7348\n",
      "Epoch 26/50\n",
      "804/804 [==============================] - 1s 912us/step - loss: 0.5434 - accuracy: 0.7358\n",
      "Epoch 27/50\n",
      "804/804 [==============================] - 1s 1ms/step - loss: 0.5438 - accuracy: 0.7350\n",
      "Epoch 28/50\n",
      "804/804 [==============================] - 1s 1ms/step - loss: 0.5437 - accuracy: 0.7343\n",
      "Epoch 29/50\n",
      "804/804 [==============================] - 1s 1ms/step - loss: 0.5432 - accuracy: 0.7352\n",
      "Epoch 30/50\n",
      "804/804 [==============================] - 1s 1ms/step - loss: 0.5434 - accuracy: 0.7363\n",
      "Epoch 31/50\n",
      "804/804 [==============================] - 1s 1ms/step - loss: 0.5434 - accuracy: 0.7350\n",
      "Epoch 32/50\n",
      "804/804 [==============================] - 1s 1ms/step - loss: 0.5431 - accuracy: 0.7348\n",
      "Epoch 33/50\n",
      "804/804 [==============================] - 1s 1ms/step - loss: 0.5433 - accuracy: 0.7359\n",
      "Epoch 34/50\n",
      "804/804 [==============================] - 1s 1ms/step - loss: 0.5430 - accuracy: 0.7357\n",
      "Epoch 35/50\n",
      "804/804 [==============================] - 1s 1ms/step - loss: 0.5433 - accuracy: 0.7358\n",
      "Epoch 36/50\n",
      "804/804 [==============================] - 1s 2ms/step - loss: 0.5426 - accuracy: 0.7357\n",
      "Epoch 37/50\n",
      "804/804 [==============================] - 1s 1ms/step - loss: 0.5425 - accuracy: 0.7357\n",
      "Epoch 38/50\n",
      "804/804 [==============================] - 1s 1ms/step - loss: 0.5425 - accuracy: 0.7360\n",
      "Epoch 39/50\n",
      "804/804 [==============================] - 1s 1ms/step - loss: 0.5426 - accuracy: 0.7360\n",
      "Epoch 40/50\n",
      "804/804 [==============================] - 1s 1ms/step - loss: 0.5424 - accuracy: 0.7366\n",
      "Epoch 41/50\n",
      "804/804 [==============================] - 1s 1ms/step - loss: 0.5425 - accuracy: 0.7364\n",
      "Epoch 42/50\n",
      "804/804 [==============================] - 1s 2ms/step - loss: 0.5422 - accuracy: 0.7360\n",
      "Epoch 43/50\n",
      "804/804 [==============================] - 1s 1ms/step - loss: 0.5421 - accuracy: 0.7353\n",
      "Epoch 44/50\n",
      "804/804 [==============================] - 1s 1ms/step - loss: 0.5422 - accuracy: 0.7364\n",
      "Epoch 45/50\n",
      "804/804 [==============================] - 1s 1ms/step - loss: 0.5422 - accuracy: 0.7363\n",
      "Epoch 46/50\n",
      "804/804 [==============================] - 1s 966us/step - loss: 0.5419 - accuracy: 0.7362\n",
      "Epoch 47/50\n",
      "804/804 [==============================] - 1s 1ms/step - loss: 0.5420 - accuracy: 0.7364\n",
      "Epoch 48/50\n",
      "804/804 [==============================] - 1s 1ms/step - loss: 0.5417 - accuracy: 0.7360\n",
      "Epoch 49/50\n",
      "804/804 [==============================] - 1s 1ms/step - loss: 0.5418 - accuracy: 0.7369\n",
      "Epoch 50/50\n",
      "804/804 [==============================] - 1s 2ms/step - loss: 0.5419 - accuracy: 0.7362\n"
     ]
    },
    {
     "data": {
      "text/plain": "<keras.callbacks.History at 0x7f8ce89bb310>"
     },
     "execution_count": 98,
     "metadata": {},
     "output_type": "execute_result"
    }
   ],
   "source": [
    "nn_A3.fit(X_train_A3_scaled, y_train, epochs=50)"
   ]
  },
  {
   "cell_type": "code",
   "execution_count": 99,
   "metadata": {},
   "outputs": [
    {
     "name": "stdout",
     "output_type": "stream",
     "text": [
      "268/268 - 0s - loss: 0.5518 - accuracy: 0.7285\n",
      "Altervative #3: Removing quasiconstant features slightly improve loss and accuracy remained the same. Loss: 0.5518470406532288, Accuracy: 0.7285131216049194\n"
     ]
    }
   ],
   "source": [
    "# Evaluate the model loss and accuracy metrics using the evaluate method and the test data\n",
    "model_loss, model_accuracy = nn_A3.evaluate(X_test_A3_scaled, y_test, verbose=2)\n",
    "\n",
    "# Display the model loss and accuracy results\n",
    "print(f\"Altervative #3: Removing quasiconstant features slightly improve loss and accuracy remained the same. Loss: {model_loss}, Accuracy: {model_accuracy}\")"
   ]
  },
  {
   "cell_type": "markdown",
   "metadata": {},
   "source": [
    "#### Alternative #4: Increase the number of epochs in A3"
   ]
  },
  {
   "cell_type": "code",
   "execution_count": 100,
   "metadata": {},
   "outputs": [],
   "source": [
    "# Create Sequential instance\n",
    "nn_A4 = Sequential()"
   ]
  },
  {
   "cell_type": "code",
   "execution_count": 101,
   "metadata": {},
   "outputs": [
    {
     "name": "stdout",
     "output_type": "stream",
     "text": [
      "Model: \"sequential_5\"\n",
      "_________________________________________________________________\n",
      "Layer (type)                 Output Shape              Param #   \n",
      "=================================================================\n",
      "dense_16 (Dense)             (None, 15)                450       \n",
      "_________________________________________________________________\n",
      "dense_17 (Dense)             (None, 8)                 128       \n",
      "_________________________________________________________________\n",
      "dense_18 (Dense)             (None, 1)                 9         \n",
      "=================================================================\n",
      "Total params: 587\n",
      "Trainable params: 587\n",
      "Non-trainable params: 0\n",
      "_________________________________________________________________\n"
     ]
    }
   ],
   "source": [
    "# Add the layers to the model\n",
    "\n",
    "nn_A4.add(Dense(units=hidden_nodes_layer1_A3, input_dim=number_input_features_A3, activation='relu'))\n",
    "nn_A4.add(Dense(units=hidden_nodes_layer2_A3, activation='relu'))\n",
    "\n",
    "\n",
    "# Output layer\n",
    "nn_A4.add(Dense(units=number_output_neurons_A3, activation='sigmoid'))\n",
    "# Check the structure of the model\n",
    "# YOUR CODE HERE\n",
    "nn_A4.summary()"
   ]
  },
  {
   "cell_type": "code",
   "execution_count": 102,
   "metadata": {},
   "outputs": [],
   "source": [
    "nn_A4.compile(loss='binary_crossentropy', optimizer='adam', metrics=['accuracy'])"
   ]
  },
  {
   "cell_type": "code",
   "execution_count": 103,
   "metadata": {},
   "outputs": [
    {
     "name": "stdout",
     "output_type": "stream",
     "text": [
      "Epoch 1/200\n",
      "804/804 [==============================] - 2s 2ms/step - loss: 0.6117 - accuracy: 0.6768\n",
      "Epoch 2/200\n",
      "804/804 [==============================] - 1s 1ms/step - loss: 0.5608 - accuracy: 0.7259\n",
      "Epoch 3/200\n",
      "804/804 [==============================] - 1s 1ms/step - loss: 0.5554 - accuracy: 0.7278\n",
      "Epoch 4/200\n",
      "804/804 [==============================] - 1s 1ms/step - loss: 0.5531 - accuracy: 0.7287\n",
      "Epoch 5/200\n",
      "804/804 [==============================] - 1s 1ms/step - loss: 0.5514 - accuracy: 0.7301\n",
      "Epoch 6/200\n",
      "804/804 [==============================] - 1s 1ms/step - loss: 0.5510 - accuracy: 0.7296\n",
      "Epoch 7/200\n",
      "804/804 [==============================] - 1s 995us/step - loss: 0.5494 - accuracy: 0.7310\n",
      "Epoch 8/200\n",
      "804/804 [==============================] - 1s 1ms/step - loss: 0.5491 - accuracy: 0.7311\n",
      "Epoch 9/200\n",
      "804/804 [==============================] - 1s 916us/step - loss: 0.5482 - accuracy: 0.7321\n",
      "Epoch 10/200\n",
      "804/804 [==============================] - 1s 901us/step - loss: 0.5478 - accuracy: 0.7329\n",
      "Epoch 11/200\n",
      "804/804 [==============================] - 1s 921us/step - loss: 0.5478 - accuracy: 0.7325\n",
      "Epoch 12/200\n",
      "804/804 [==============================] - 1s 990us/step - loss: 0.5468 - accuracy: 0.7332\n",
      "Epoch 13/200\n",
      "804/804 [==============================] - 1s 1ms/step - loss: 0.5466 - accuracy: 0.7332\n",
      "Epoch 14/200\n",
      "804/804 [==============================] - 1s 2ms/step - loss: 0.5462 - accuracy: 0.7338\n",
      "Epoch 15/200\n",
      "804/804 [==============================] - 1s 2ms/step - loss: 0.5460 - accuracy: 0.7326\n",
      "Epoch 16/200\n",
      "804/804 [==============================] - 1s 1ms/step - loss: 0.5456 - accuracy: 0.7346\n",
      "Epoch 17/200\n",
      "804/804 [==============================] - 1s 2ms/step - loss: 0.5454 - accuracy: 0.7339\n",
      "Epoch 18/200\n",
      "804/804 [==============================] - 1s 1ms/step - loss: 0.5455 - accuracy: 0.7343\n",
      "Epoch 19/200\n",
      "804/804 [==============================] - 1s 2ms/step - loss: 0.5450 - accuracy: 0.7339\n",
      "Epoch 20/200\n",
      "804/804 [==============================] - 1s 1ms/step - loss: 0.5453 - accuracy: 0.7341\n",
      "Epoch 21/200\n",
      "804/804 [==============================] - 1s 1ms/step - loss: 0.5446 - accuracy: 0.7343\n",
      "Epoch 22/200\n",
      "804/804 [==============================] - 1s 2ms/step - loss: 0.5444 - accuracy: 0.7337\n",
      "Epoch 23/200\n",
      "804/804 [==============================] - 1s 1ms/step - loss: 0.5448 - accuracy: 0.7348\n",
      "Epoch 24/200\n",
      "804/804 [==============================] - 1s 854us/step - loss: 0.5443 - accuracy: 0.7346\n",
      "Epoch 25/200\n",
      "804/804 [==============================] - 1s 1ms/step - loss: 0.5441 - accuracy: 0.7348\n",
      "Epoch 26/200\n",
      "804/804 [==============================] - 1s 856us/step - loss: 0.5443 - accuracy: 0.7345\n",
      "Epoch 27/200\n",
      "804/804 [==============================] - 1s 825us/step - loss: 0.5438 - accuracy: 0.7353\n",
      "Epoch 28/200\n",
      "804/804 [==============================] - 1s 811us/step - loss: 0.5440 - accuracy: 0.7345\n",
      "Epoch 29/200\n",
      "804/804 [==============================] - 1s 939us/step - loss: 0.5439 - accuracy: 0.7350\n",
      "Epoch 30/200\n",
      "804/804 [==============================] - 1s 928us/step - loss: 0.5442 - accuracy: 0.7342\n",
      "Epoch 31/200\n",
      "804/804 [==============================] - 1s 909us/step - loss: 0.5438 - accuracy: 0.7350\n",
      "Epoch 32/200\n",
      "804/804 [==============================] - 1s 1ms/step - loss: 0.5433 - accuracy: 0.7346\n",
      "Epoch 33/200\n",
      "804/804 [==============================] - 1s 1ms/step - loss: 0.5431 - accuracy: 0.7360\n",
      "Epoch 34/200\n",
      "804/804 [==============================] - 1s 1ms/step - loss: 0.5436 - accuracy: 0.7354\n",
      "Epoch 35/200\n",
      "804/804 [==============================] - 1s 1ms/step - loss: 0.5433 - accuracy: 0.7342\n",
      "Epoch 36/200\n",
      "804/804 [==============================] - 1s 1ms/step - loss: 0.5431 - accuracy: 0.7354\n",
      "Epoch 37/200\n",
      "804/804 [==============================] - 1s 1ms/step - loss: 0.5430 - accuracy: 0.7350\n",
      "Epoch 38/200\n",
      "804/804 [==============================] - 1s 1ms/step - loss: 0.5429 - accuracy: 0.7345\n",
      "Epoch 39/200\n",
      "804/804 [==============================] - 1s 1ms/step - loss: 0.5428 - accuracy: 0.7357\n",
      "Epoch 40/200\n",
      "804/804 [==============================] - 1s 1ms/step - loss: 0.5428 - accuracy: 0.7350\n",
      "Epoch 41/200\n",
      "804/804 [==============================] - 1s 1ms/step - loss: 0.5426 - accuracy: 0.7360\n",
      "Epoch 42/200\n",
      "804/804 [==============================] - 1s 1ms/step - loss: 0.5425 - accuracy: 0.7345\n",
      "Epoch 43/200\n",
      "804/804 [==============================] - 1s 1ms/step - loss: 0.5428 - accuracy: 0.7353\n",
      "Epoch 44/200\n",
      "804/804 [==============================] - 1s 1ms/step - loss: 0.5426 - accuracy: 0.7358\n",
      "Epoch 45/200\n",
      "804/804 [==============================] - 1s 1ms/step - loss: 0.5423 - accuracy: 0.7344\n",
      "Epoch 46/200\n",
      "804/804 [==============================] - 1s 1ms/step - loss: 0.5424 - accuracy: 0.7350\n",
      "Epoch 47/200\n",
      "804/804 [==============================] - 1s 1ms/step - loss: 0.5426 - accuracy: 0.7350\n",
      "Epoch 48/200\n",
      "804/804 [==============================] - 1s 994us/step - loss: 0.5423 - accuracy: 0.7343\n",
      "Epoch 49/200\n",
      "804/804 [==============================] - 1s 1ms/step - loss: 0.5422 - accuracy: 0.7362\n",
      "Epoch 50/200\n",
      "804/804 [==============================] - 1s 1ms/step - loss: 0.5419 - accuracy: 0.7353\n",
      "Epoch 51/200\n",
      "804/804 [==============================] - 1s 1ms/step - loss: 0.5422 - accuracy: 0.7346\n",
      "Epoch 52/200\n",
      "804/804 [==============================] - 1s 1ms/step - loss: 0.5421 - accuracy: 0.7354\n",
      "Epoch 53/200\n",
      "804/804 [==============================] - 1s 1ms/step - loss: 0.5421 - accuracy: 0.7353\n",
      "Epoch 54/200\n",
      "804/804 [==============================] - 1s 997us/step - loss: 0.5416 - accuracy: 0.7345\n",
      "Epoch 55/200\n",
      "804/804 [==============================] - 1s 977us/step - loss: 0.5421 - accuracy: 0.7346\n",
      "Epoch 56/200\n",
      "804/804 [==============================] - 1s 934us/step - loss: 0.5422 - accuracy: 0.7355\n",
      "Epoch 57/200\n",
      "804/804 [==============================] - 1s 902us/step - loss: 0.5419 - accuracy: 0.7362\n",
      "Epoch 58/200\n",
      "804/804 [==============================] - 1s 1ms/step - loss: 0.5417 - accuracy: 0.7356\n",
      "Epoch 59/200\n",
      "804/804 [==============================] - 1s 958us/step - loss: 0.5416 - accuracy: 0.7356\n",
      "Epoch 60/200\n",
      "804/804 [==============================] - 1s 839us/step - loss: 0.5418 - accuracy: 0.7358\n",
      "Epoch 61/200\n",
      "804/804 [==============================] - 1s 819us/step - loss: 0.5415 - accuracy: 0.7352\n",
      "Epoch 62/200\n",
      "804/804 [==============================] - 1s 807us/step - loss: 0.5416 - accuracy: 0.7366\n",
      "Epoch 63/200\n",
      "804/804 [==============================] - 1s 778us/step - loss: 0.5417 - accuracy: 0.7358\n",
      "Epoch 64/200\n",
      "804/804 [==============================] - 1s 765us/step - loss: 0.5414 - accuracy: 0.7358\n",
      "Epoch 65/200\n",
      "804/804 [==============================] - 1s 767us/step - loss: 0.5418 - accuracy: 0.7350\n",
      "Epoch 66/200\n",
      "804/804 [==============================] - 1s 774us/step - loss: 0.5415 - accuracy: 0.7348\n",
      "Epoch 67/200\n",
      "804/804 [==============================] - 1s 769us/step - loss: 0.5417 - accuracy: 0.7352\n",
      "Epoch 68/200\n",
      "804/804 [==============================] - 1s 776us/step - loss: 0.5413 - accuracy: 0.7357\n",
      "Epoch 69/200\n",
      "804/804 [==============================] - 1s 785us/step - loss: 0.5413 - accuracy: 0.7355\n",
      "Epoch 70/200\n",
      "804/804 [==============================] - 1s 771us/step - loss: 0.5413 - accuracy: 0.7353\n",
      "Epoch 71/200\n",
      "804/804 [==============================] - 1s 773us/step - loss: 0.5412 - accuracy: 0.7349\n",
      "Epoch 72/200\n",
      "804/804 [==============================] - 1s 782us/step - loss: 0.5410 - accuracy: 0.7361\n",
      "Epoch 73/200\n",
      "804/804 [==============================] - 1s 999us/step - loss: 0.5415 - accuracy: 0.7359\n",
      "Epoch 74/200\n",
      "804/804 [==============================] - 1s 1ms/step - loss: 0.5409 - accuracy: 0.7364\n",
      "Epoch 75/200\n",
      "804/804 [==============================] - 1s 1ms/step - loss: 0.5409 - accuracy: 0.7359\n",
      "Epoch 76/200\n",
      "804/804 [==============================] - 1s 769us/step - loss: 0.5410 - accuracy: 0.7372\n",
      "Epoch 77/200\n",
      "804/804 [==============================] - 1s 793us/step - loss: 0.5412 - accuracy: 0.7358\n",
      "Epoch 78/200\n",
      "804/804 [==============================] - 1s 769us/step - loss: 0.5409 - accuracy: 0.7350\n",
      "Epoch 79/200\n",
      "804/804 [==============================] - 1s 760us/step - loss: 0.5412 - accuracy: 0.7357\n",
      "Epoch 80/200\n",
      "804/804 [==============================] - 1s 773us/step - loss: 0.5409 - accuracy: 0.7353\n",
      "Epoch 81/200\n",
      "804/804 [==============================] - 1s 761us/step - loss: 0.5409 - accuracy: 0.7363\n",
      "Epoch 82/200\n",
      "804/804 [==============================] - 1s 774us/step - loss: 0.5405 - accuracy: 0.7359\n",
      "Epoch 83/200\n",
      "804/804 [==============================] - 1s 762us/step - loss: 0.5406 - accuracy: 0.7358\n",
      "Epoch 84/200\n",
      "804/804 [==============================] - 1s 771us/step - loss: 0.5409 - accuracy: 0.7364\n",
      "Epoch 85/200\n",
      "804/804 [==============================] - 1s 764us/step - loss: 0.5405 - accuracy: 0.7373\n",
      "Epoch 86/200\n",
      "804/804 [==============================] - 1s 772us/step - loss: 0.5411 - accuracy: 0.7369\n",
      "Epoch 87/200\n",
      "804/804 [==============================] - 1s 768us/step - loss: 0.5405 - accuracy: 0.7362\n",
      "Epoch 88/200\n",
      "804/804 [==============================] - 1s 771us/step - loss: 0.5403 - accuracy: 0.7358\n",
      "Epoch 89/200\n",
      "804/804 [==============================] - 1s 949us/step - loss: 0.5407 - accuracy: 0.7362\n",
      "Epoch 90/200\n",
      "804/804 [==============================] - 1s 918us/step - loss: 0.5402 - accuracy: 0.7365\n",
      "Epoch 91/200\n",
      "804/804 [==============================] - 1s 770us/step - loss: 0.5408 - accuracy: 0.7362\n",
      "Epoch 92/200\n",
      "804/804 [==============================] - 1s 922us/step - loss: 0.5407 - accuracy: 0.7347\n",
      "Epoch 93/200\n",
      "804/804 [==============================] - 1s 906us/step - loss: 0.5405 - accuracy: 0.7371\n",
      "Epoch 94/200\n",
      "804/804 [==============================] - 1s 765us/step - loss: 0.5402 - accuracy: 0.7360\n",
      "Epoch 95/200\n",
      "804/804 [==============================] - 1s 776us/step - loss: 0.5405 - accuracy: 0.7357\n",
      "Epoch 96/200\n",
      "804/804 [==============================] - 1s 795us/step - loss: 0.5402 - accuracy: 0.7357\n",
      "Epoch 97/200\n",
      "804/804 [==============================] - 1s 765us/step - loss: 0.5402 - accuracy: 0.7367\n",
      "Epoch 98/200\n",
      "804/804 [==============================] - 1s 785us/step - loss: 0.5404 - accuracy: 0.7357\n",
      "Epoch 99/200\n",
      "804/804 [==============================] - 1s 776us/step - loss: 0.5404 - accuracy: 0.7370\n",
      "Epoch 100/200\n",
      "804/804 [==============================] - 1s 768us/step - loss: 0.5402 - accuracy: 0.7362\n",
      "Epoch 101/200\n",
      "804/804 [==============================] - 1s 766us/step - loss: 0.5403 - accuracy: 0.7362\n",
      "Epoch 102/200\n",
      "804/804 [==============================] - 1s 769us/step - loss: 0.5402 - accuracy: 0.7353\n",
      "Epoch 103/200\n",
      "804/804 [==============================] - 1s 770us/step - loss: 0.5401 - accuracy: 0.7348\n",
      "Epoch 104/200\n",
      "804/804 [==============================] - 1s 857us/step - loss: 0.5401 - accuracy: 0.7355\n",
      "Epoch 105/200\n",
      "804/804 [==============================] - 1s 1ms/step - loss: 0.5401 - accuracy: 0.7360\n",
      "Epoch 106/200\n",
      "804/804 [==============================] - 1s 803us/step - loss: 0.5400 - accuracy: 0.7364\n",
      "Epoch 107/200\n",
      "804/804 [==============================] - 1s 789us/step - loss: 0.5400 - accuracy: 0.7359\n",
      "Epoch 108/200\n",
      "804/804 [==============================] - 1s 782us/step - loss: 0.5400 - accuracy: 0.7364\n",
      "Epoch 109/200\n",
      "804/804 [==============================] - 1s 779us/step - loss: 0.5400 - accuracy: 0.7372\n",
      "Epoch 110/200\n",
      "804/804 [==============================] - 1s 781us/step - loss: 0.5396 - accuracy: 0.7368\n",
      "Epoch 111/200\n",
      "804/804 [==============================] - 1s 895us/step - loss: 0.5400 - accuracy: 0.7353\n",
      "Epoch 112/200\n",
      "804/804 [==============================] - 1s 847us/step - loss: 0.5398 - accuracy: 0.7372\n",
      "Epoch 113/200\n",
      "804/804 [==============================] - 1s 773us/step - loss: 0.5396 - accuracy: 0.7349\n",
      "Epoch 114/200\n",
      "804/804 [==============================] - 1s 768us/step - loss: 0.5400 - accuracy: 0.7367\n",
      "Epoch 115/200\n",
      "804/804 [==============================] - 1s 802us/step - loss: 0.5397 - accuracy: 0.7365\n",
      "Epoch 116/200\n",
      "804/804 [==============================] - 1s 780us/step - loss: 0.5400 - accuracy: 0.7364\n",
      "Epoch 117/200\n",
      "804/804 [==============================] - 1s 780us/step - loss: 0.5398 - accuracy: 0.7365\n",
      "Epoch 118/200\n",
      "804/804 [==============================] - 1s 781us/step - loss: 0.5398 - accuracy: 0.7364\n",
      "Epoch 119/200\n",
      "804/804 [==============================] - 1s 796us/step - loss: 0.5397 - accuracy: 0.7357\n",
      "Epoch 120/200\n",
      "804/804 [==============================] - 1s 1ms/step - loss: 0.5395 - accuracy: 0.7370\n",
      "Epoch 121/200\n",
      "804/804 [==============================] - 1s 867us/step - loss: 0.5396 - accuracy: 0.7366\n",
      "Epoch 122/200\n",
      "804/804 [==============================] - 1s 775us/step - loss: 0.5397 - accuracy: 0.7363\n",
      "Epoch 123/200\n",
      "804/804 [==============================] - 1s 787us/step - loss: 0.5400 - accuracy: 0.7360\n",
      "Epoch 124/200\n",
      "804/804 [==============================] - 1s 768us/step - loss: 0.5398 - accuracy: 0.7371\n",
      "Epoch 125/200\n",
      "804/804 [==============================] - 1s 763us/step - loss: 0.5396 - accuracy: 0.7370\n",
      "Epoch 126/200\n",
      "804/804 [==============================] - 1s 768us/step - loss: 0.5391 - accuracy: 0.7369\n",
      "Epoch 127/200\n",
      "804/804 [==============================] - 1s 759us/step - loss: 0.5396 - accuracy: 0.7357\n",
      "Epoch 128/200\n",
      "804/804 [==============================] - 1s 768us/step - loss: 0.5395 - accuracy: 0.7357\n",
      "Epoch 129/200\n",
      "804/804 [==============================] - 1s 764us/step - loss: 0.5395 - accuracy: 0.7375\n",
      "Epoch 130/200\n",
      "804/804 [==============================] - 1s 772us/step - loss: 0.5396 - accuracy: 0.7370\n",
      "Epoch 131/200\n",
      "804/804 [==============================] - 1s 781us/step - loss: 0.5392 - accuracy: 0.7365\n",
      "Epoch 132/200\n",
      "804/804 [==============================] - 1s 767us/step - loss: 0.5393 - accuracy: 0.7355\n",
      "Epoch 133/200\n",
      "804/804 [==============================] - 1s 766us/step - loss: 0.5392 - accuracy: 0.7363\n",
      "Epoch 134/200\n",
      "804/804 [==============================] - 1s 768us/step - loss: 0.5394 - accuracy: 0.7363\n",
      "Epoch 135/200\n",
      "804/804 [==============================] - 1s 812us/step - loss: 0.5392 - accuracy: 0.7372\n",
      "Epoch 136/200\n",
      "804/804 [==============================] - 1s 1ms/step - loss: 0.5395 - accuracy: 0.7366\n",
      "Epoch 137/200\n",
      "804/804 [==============================] - 1s 792us/step - loss: 0.5391 - accuracy: 0.7361\n",
      "Epoch 138/200\n",
      "804/804 [==============================] - 1s 821us/step - loss: 0.5393 - accuracy: 0.7372\n",
      "Epoch 139/200\n",
      "804/804 [==============================] - 1s 771us/step - loss: 0.5393 - accuracy: 0.7362\n",
      "Epoch 140/200\n",
      "804/804 [==============================] - 1s 771us/step - loss: 0.5394 - accuracy: 0.7368\n",
      "Epoch 141/200\n",
      "804/804 [==============================] - 1s 763us/step - loss: 0.5387 - accuracy: 0.7358\n",
      "Epoch 142/200\n",
      "804/804 [==============================] - 1s 801us/step - loss: 0.5390 - accuracy: 0.7371\n",
      "Epoch 143/200\n",
      "804/804 [==============================] - 1s 769us/step - loss: 0.5391 - accuracy: 0.7368\n",
      "Epoch 144/200\n",
      "804/804 [==============================] - 1s 768us/step - loss: 0.5390 - accuracy: 0.7362\n",
      "Epoch 145/200\n",
      "804/804 [==============================] - 1s 763us/step - loss: 0.5388 - accuracy: 0.7370\n",
      "Epoch 146/200\n",
      "804/804 [==============================] - 1s 764us/step - loss: 0.5389 - accuracy: 0.7365\n",
      "Epoch 147/200\n",
      "804/804 [==============================] - 1s 758us/step - loss: 0.5387 - accuracy: 0.7371\n",
      "Epoch 148/200\n",
      "804/804 [==============================] - 1s 767us/step - loss: 0.5392 - accuracy: 0.7367\n",
      "Epoch 149/200\n",
      "804/804 [==============================] - 1s 761us/step - loss: 0.5390 - accuracy: 0.7369\n",
      "Epoch 150/200\n",
      "804/804 [==============================] - 1s 771us/step - loss: 0.5392 - accuracy: 0.7373\n",
      "Epoch 151/200\n",
      "804/804 [==============================] - 1s 866us/step - loss: 0.5391 - accuracy: 0.7369\n",
      "Epoch 152/200\n",
      "804/804 [==============================] - 1s 990us/step - loss: 0.5387 - accuracy: 0.7367\n",
      "Epoch 153/200\n",
      "804/804 [==============================] - 1s 807us/step - loss: 0.5387 - accuracy: 0.7365\n",
      "Epoch 154/200\n",
      "804/804 [==============================] - 1s 790us/step - loss: 0.5387 - accuracy: 0.7379\n",
      "Epoch 155/200\n",
      "804/804 [==============================] - 1s 768us/step - loss: 0.5389 - accuracy: 0.7362\n",
      "Epoch 156/200\n",
      "804/804 [==============================] - 1s 771us/step - loss: 0.5389 - accuracy: 0.7355\n",
      "Epoch 157/200\n",
      "804/804 [==============================] - 1s 761us/step - loss: 0.5389 - accuracy: 0.7366\n",
      "Epoch 158/200\n",
      "804/804 [==============================] - 1s 767us/step - loss: 0.5388 - accuracy: 0.7380\n",
      "Epoch 159/200\n",
      "804/804 [==============================] - 1s 762us/step - loss: 0.5387 - accuracy: 0.7369\n",
      "Epoch 160/200\n",
      "804/804 [==============================] - 1s 763us/step - loss: 0.5389 - accuracy: 0.7363\n",
      "Epoch 161/200\n",
      "804/804 [==============================] - 1s 764us/step - loss: 0.5386 - accuracy: 0.7353\n",
      "Epoch 162/200\n",
      "804/804 [==============================] - 1s 764us/step - loss: 0.5387 - accuracy: 0.7372\n",
      "Epoch 163/200\n",
      "804/804 [==============================] - 1s 769us/step - loss: 0.5387 - accuracy: 0.7355\n",
      "Epoch 164/200\n",
      "804/804 [==============================] - 1s 761us/step - loss: 0.5388 - accuracy: 0.7365\n",
      "Epoch 165/200\n",
      "804/804 [==============================] - 1s 794us/step - loss: 0.5384 - accuracy: 0.7374\n",
      "Epoch 166/200\n",
      "804/804 [==============================] - 1s 782us/step - loss: 0.5384 - accuracy: 0.7369\n",
      "Epoch 167/200\n",
      "804/804 [==============================] - 1s 901us/step - loss: 0.5387 - accuracy: 0.7369\n",
      "Epoch 168/200\n",
      "804/804 [==============================] - 1s 955us/step - loss: 0.5389 - accuracy: 0.7368\n",
      "Epoch 169/200\n",
      "804/804 [==============================] - 1s 778us/step - loss: 0.5385 - accuracy: 0.7384\n",
      "Epoch 170/200\n",
      "804/804 [==============================] - 1s 818us/step - loss: 0.5387 - accuracy: 0.7371\n",
      "Epoch 171/200\n",
      "804/804 [==============================] - 1s 765us/step - loss: 0.5385 - accuracy: 0.7374\n",
      "Epoch 172/200\n",
      "804/804 [==============================] - 1s 763us/step - loss: 0.5390 - accuracy: 0.7367\n",
      "Epoch 173/200\n",
      "804/804 [==============================] - 1s 778us/step - loss: 0.5388 - accuracy: 0.7374\n",
      "Epoch 174/200\n",
      "804/804 [==============================] - 1s 760us/step - loss: 0.5387 - accuracy: 0.7369\n",
      "Epoch 175/200\n",
      "804/804 [==============================] - 1s 773us/step - loss: 0.5385 - accuracy: 0.7361\n",
      "Epoch 176/200\n",
      "804/804 [==============================] - 1s 765us/step - loss: 0.5389 - accuracy: 0.7379\n",
      "Epoch 177/200\n",
      "804/804 [==============================] - 1s 785us/step - loss: 0.5384 - accuracy: 0.7365\n",
      "Epoch 178/200\n",
      "804/804 [==============================] - 1s 765us/step - loss: 0.5383 - accuracy: 0.7378\n",
      "Epoch 179/200\n",
      "804/804 [==============================] - 1s 770us/step - loss: 0.5384 - accuracy: 0.7367\n",
      "Epoch 180/200\n",
      "804/804 [==============================] - 1s 772us/step - loss: 0.5386 - accuracy: 0.7370\n",
      "Epoch 181/200\n",
      "804/804 [==============================] - 1s 763us/step - loss: 0.5384 - accuracy: 0.7362\n",
      "Epoch 182/200\n",
      "804/804 [==============================] - 1s 767us/step - loss: 0.5379 - accuracy: 0.7373\n",
      "Epoch 183/200\n",
      "804/804 [==============================] - 1s 960us/step - loss: 0.5385 - accuracy: 0.7364\n",
      "Epoch 184/200\n",
      "804/804 [==============================] - 1s 908us/step - loss: 0.5383 - accuracy: 0.7375\n",
      "Epoch 185/200\n",
      "804/804 [==============================] - 1s 913us/step - loss: 0.5382 - accuracy: 0.7369\n",
      "Epoch 186/200\n",
      "804/804 [==============================] - 1s 922us/step - loss: 0.5387 - accuracy: 0.7376\n",
      "Epoch 187/200\n",
      "804/804 [==============================] - 1s 780us/step - loss: 0.5381 - accuracy: 0.7373\n",
      "Epoch 188/200\n",
      "804/804 [==============================] - 1s 773us/step - loss: 0.5382 - accuracy: 0.7370\n",
      "Epoch 189/200\n",
      "804/804 [==============================] - 1s 805us/step - loss: 0.5385 - accuracy: 0.7370\n",
      "Epoch 190/200\n",
      "804/804 [==============================] - 1s 765us/step - loss: 0.5382 - accuracy: 0.7378\n",
      "Epoch 191/200\n",
      "804/804 [==============================] - 1s 791us/step - loss: 0.5383 - accuracy: 0.7371\n",
      "Epoch 192/200\n",
      "804/804 [==============================] - 1s 778us/step - loss: 0.5383 - accuracy: 0.7372\n",
      "Epoch 193/200\n",
      "804/804 [==============================] - 1s 773us/step - loss: 0.5383 - accuracy: 0.7375\n",
      "Epoch 194/200\n",
      "804/804 [==============================] - 1s 768us/step - loss: 0.5382 - accuracy: 0.7377\n",
      "Epoch 195/200\n",
      "804/804 [==============================] - 1s 764us/step - loss: 0.5381 - accuracy: 0.7376\n",
      "Epoch 196/200\n",
      "804/804 [==============================] - 1s 768us/step - loss: 0.5383 - accuracy: 0.7369\n",
      "Epoch 197/200\n",
      "804/804 [==============================] - 1s 773us/step - loss: 0.5382 - accuracy: 0.7372\n",
      "Epoch 198/200\n",
      "804/804 [==============================] - 1s 878us/step - loss: 0.5383 - accuracy: 0.7376\n",
      "Epoch 199/200\n",
      "804/804 [==============================] - 1s 1ms/step - loss: 0.5381 - accuracy: 0.7374\n",
      "Epoch 200/200\n",
      "804/804 [==============================] - 1s 797us/step - loss: 0.5379 - accuracy: 0.7371\n"
     ]
    },
    {
     "data": {
      "text/plain": "<keras.callbacks.History at 0x7f8ce9426910>"
     },
     "execution_count": 103,
     "metadata": {},
     "output_type": "execute_result"
    }
   ],
   "source": [
    "nn_A4.fit(X_train_A3_scaled, y_train, epochs=200)"
   ]
  },
  {
   "cell_type": "markdown",
   "metadata": {},
   "source": [
    "### Step 2: After finishing your models, display the accuracy scores achieved by each model, and compare the results."
   ]
  },
  {
   "cell_type": "markdown",
   "metadata": {},
   "source": []
  },
  {
   "cell_type": "code",
   "execution_count": 104,
   "metadata": {},
   "outputs": [
    {
     "name": "stdout",
     "output_type": "stream",
     "text": [
      "Original Model Results\n",
      "268/268 - 0s - loss: 0.5564 - accuracy: 0.7320\n",
      "Loss: 0.5563734173774719, Accuracy: 0.7320116758346558\n"
     ]
    }
   ],
   "source": [
    "print(\"Original Model Results\")\n",
    "\n",
    "# Evaluate the model loss and accuracy metrics using the evaluate method and the test data\n",
    "model_loss, model_accuracy = nn.evaluate(X_test_scaled, y_test, verbose=2)\n",
    "\n",
    "# Display the model loss and accuracy results\n",
    "print(f\"Loss: {model_loss}, Accuracy: {model_accuracy}\")"
   ]
  },
  {
   "cell_type": "code",
   "execution_count": 105,
   "metadata": {},
   "outputs": [
    {
     "name": "stdout",
     "output_type": "stream",
     "text": [
      "Alternative Model 1 Results\n",
      "268/268 - 0s - loss: 0.5586 - accuracy: 0.7261\n",
      "Loss: 0.5586099624633789, Accuracy: 0.726064145565033\n"
     ]
    }
   ],
   "source": [
    "print(\"Alternative Model 1 Results\")\n",
    "\n",
    "# Evaluate the model loss and accuracy metrics using the evaluate method and the test data\n",
    "model_loss, model_accuracy = nn_A1.evaluate(X_test_scaled, y_test, verbose=2)\n",
    "\n",
    "# Display the model loss and accuracy results\n",
    "print(f\"Loss: {model_loss}, Accuracy: {model_accuracy}\")"
   ]
  },
  {
   "cell_type": "code",
   "execution_count": 106,
   "metadata": {},
   "outputs": [
    {
     "name": "stdout",
     "output_type": "stream",
     "text": [
      "Alternative Model 2 Results\n",
      "268/268 - 0s - loss: 0.5620 - accuracy: 0.7289\n",
      "Loss: 0.5619950294494629, Accuracy: 0.728863000869751\n"
     ]
    }
   ],
   "source": [
    "print(\"Alternative Model 2 Results\")\n",
    "\n",
    "# Evaluate the model loss and accuracy metrics using the evaluate method and the test data\n",
    "model_loss, model_accuracy = nn_A2.evaluate(X_test_A2_scaled, y_test, verbose=2)\n",
    "\n",
    "# Display the model loss and accuracy results\n",
    "print(f\"Loss: {model_loss}, Accuracy: {model_accuracy}\")"
   ]
  },
  {
   "cell_type": "code",
   "execution_count": 107,
   "metadata": {},
   "outputs": [
    {
     "name": "stdout",
     "output_type": "stream",
     "text": [
      "Alternative Model 3 Results\n",
      "268/268 - 0s - loss: 0.5518 - accuracy: 0.7285\n",
      "Loss: 0.5518470406532288, Accuracy: 0.7285131216049194\n"
     ]
    }
   ],
   "source": [
    "print(\"Alternative Model 3 Results\")\n",
    "\n",
    "# Evaluate the model loss and accuracy metrics using the evaluate method and the test data\n",
    "model_loss, model_accuracy = nn_A3.evaluate(X_test_A3_scaled, y_test, verbose=2)\n",
    "\n",
    "# Display the model loss and accuracy results\n",
    "print(f\"Loss: {model_loss}, Accuracy: {model_accuracy}\")"
   ]
  },
  {
   "cell_type": "code",
   "execution_count": 108,
   "metadata": {},
   "outputs": [
    {
     "name": "stdout",
     "output_type": "stream",
     "text": [
      "Alternative Model 4 Results\n",
      "268/268 - 0s - loss: 0.5537 - accuracy: 0.7259\n",
      "Loss: 0.5536937117576599, Accuracy: 0.7259474992752075\n"
     ]
    }
   ],
   "source": [
    "print(\"Alternative Model 4 Results\")\n",
    "\n",
    "# Evaluate the model loss and accuracy metrics using the evaluate method and the test data\n",
    "model_loss, model_accuracy = nn_A4.evaluate(X_test_A3_scaled, y_test, verbose=2)\n",
    "\n",
    "# Display the model loss and accuracy results\n",
    "print(f\"Loss: {model_loss}, Accuracy: {model_accuracy}\")"
   ]
  },
  {
   "cell_type": "markdown",
   "metadata": {},
   "source": [
    "### Step 3: Save each of your alternative models as an HDF5 file.\n"
   ]
  },
  {
   "cell_type": "code",
   "execution_count": 109,
   "metadata": {},
   "outputs": [
    {
     "ename": "SyntaxError",
     "evalue": "invalid syntax (<ipython-input-109-24965d0a0162>, line 2)",
     "output_type": "error",
     "traceback": [
      "\u001b[0;36m  File \u001b[0;32m\"<ipython-input-109-24965d0a0162>\"\u001b[0;36m, line \u001b[0;32m2\u001b[0m\n\u001b[0;31m    file_path = # YOUR CODE HERE\u001b[0m\n\u001b[0m                                ^\u001b[0m\n\u001b[0;31mSyntaxError\u001b[0m\u001b[0;31m:\u001b[0m invalid syntax\n"
     ]
    }
   ],
   "source": [
    "# Set the file path for the first alternative model\n",
    "file_path = # YOUR CODE HERE\n",
    "\n",
    "# Export your model to a HDF5 file\n",
    "# YOUR CODE HERE\n"
   ]
  },
  {
   "cell_type": "code",
   "execution_count": null,
   "metadata": {},
   "outputs": [],
   "source": [
    "# Set the file path for the second alternative model\n",
    "file_path = # YOUR CODE HERE\n",
    "\n",
    "# Export your model to a HDF5 file\n",
    "# YOUR CODE HERE\n"
   ]
  },
  {
   "cell_type": "code",
   "execution_count": null,
   "metadata": {},
   "outputs": [],
   "source": [
    "# Set the file path for the second alternative model\n",
    "file_path = # YOUR CODE HERE\n",
    "\n",
    "# Export your model to a HDF5 file\n",
    "# YOUR CODE HERE\n"
   ]
  },
  {
   "cell_type": "code",
   "execution_count": null,
   "metadata": {},
   "outputs": [],
   "source": [
    "# Set the file path for the fourth alternative model\n",
    "file_path = # YOUR CODE HERE\n",
    "\n",
    "# Export your model to a HDF5 file\n",
    "# YOUR CODE HERE\n"
   ]
  }
 ],
 "metadata": {
  "kernelspec": {
   "display_name": "Python 3.7.10 64-bit ('dev': conda)",
   "name": "python3710jvsc74a57bd0756051ce873b5faf84517576cfef92cd98c6606ca8f6797229bf807d95e20b27"
  },
  "language_info": {
   "name": "python",
   "version": ""
  }
 },
 "nbformat": 4,
 "nbformat_minor": 4
}